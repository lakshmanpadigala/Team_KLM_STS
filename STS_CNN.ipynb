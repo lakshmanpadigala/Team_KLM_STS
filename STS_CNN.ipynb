{
  "nbformat": 4,
  "nbformat_minor": 0,
  "metadata": {
    "colab": {
      "provenance": []
    },
    "kernelspec": {
      "name": "python3",
      "display_name": "Python 3"
    },
    "language_info": {
      "name": "python"
    }
  },
  "cells": [
    {
      "cell_type": "code",
      "execution_count": 43,
      "metadata": {
        "id": "8R-Qizu88ef4"
      },
      "outputs": [],
      "source": [
        "from nltk.tokenize import RegexpTokenizer\n",
        "import numpy as np\n",
        "import re\n",
        "from keras.utils import pad_sequences\n",
        "from keras.callbacks import EarlyStopping\n",
        "import random,copy,string\n",
        "import matplotlib.pyplot as plt\n",
        "import nltk\n",
        "import multiprocessing as mp\n",
        "import random,copy,string\n",
        "from scipy.stats import pearsonr\n",
        "from tensorflow.python.keras import backend as K\n",
        "from tensorflow.python.keras.models import Model\n",
        "from tensorflow.python.keras.layers import Input, Conv1D,  MaxPool1D, Flatten\n",
        "from tensorflow.python.keras.layers import Lambda, multiply, concatenate, Dense\n",
        "from tensorflow.python.keras.callbacks import Callback\n",
        "# from keras.optimizers import Adam\n",
        "from keras.models import load_model\n",
        "import tensorflow as tf\n",
        "# nltk.download('punkt')"
      ]
    },
    {
      "cell_type": "code",
      "source": [
        "from google.colab import drive\n",
        "drive.mount('/content/drive')"
      ],
      "metadata": {
        "colab": {
          "base_uri": "https://localhost:8080/"
        },
        "id": "T8KsBjT99H5c",
        "outputId": "1bbb1ac9-bf3f-4c32-d376-7efce70ce218"
      },
      "execution_count": 3,
      "outputs": [
        {
          "output_type": "stream",
          "name": "stdout",
          "text": [
            "Drive already mounted at /content/drive; to attempt to forcibly remount, call drive.mount(\"/content/drive\", force_remount=True).\n"
          ]
        }
      ]
    },
    {
      "cell_type": "markdown",
      "source": [
        "###HYPER - PARAMETERS"
      ],
      "metadata": {
        "id": "QUiFKm508zbH"
      }
    },
    {
      "cell_type": "code",
      "source": [
        "sentence_length, padding_size = 40,40\n",
        "embedding_size = 300\n",
        "no_of_filters = 300\n",
        "kernel_size = 1\n",
        "cnn_activation_function = 'relu'\n",
        "cnn_kernel_initializer = 'he_uniform'\n",
        "no_of_units_ds1 = 300\n",
        "output_units = 6\n",
        "optimizer = 'adam'\n",
        "batch_size = 300\n",
        "num_batches = 2"
      ],
      "metadata": {
        "id": "SWXQS0bN8vmJ"
      },
      "execution_count": 2,
      "outputs": []
    },
    {
      "cell_type": "markdown",
      "source": [
        "### Glove embedding"
      ],
      "metadata": {
        "id": "kIfvLRNg9TJd"
      }
    },
    {
      "cell_type": "code",
      "source": [
        "word_to_index = dict()\n",
        "index_to_word = dict()\n",
        "index = 1\n",
        "embed_dict = {}\n",
        "embed_dict['oov'] = np.zeros(300)\n",
        "\n",
        "with open('/content/drive/MyDrive/Colab Notebooks/Working/glove.6B.300d.txt','r') as f:  #/content/drive/MyDrive/NLP/glove.840B.300d.txt /content/drive/MyDrive/smai/glove/glove.6B.300d.txt\n",
        "  for line in f:\n",
        "    values = line.split(' ')\n",
        "    word = values[0]\n",
        "    vector = np.asarray(values[1:],'float32')\n",
        "    embed_dict[word]=vector\n",
        "    word_to_index[word] = index\n",
        "    index_to_word[index] = word\n",
        "    index+=1\n",
        "\n",
        "word_to_index['oov'] = 0\n",
        "index_to_word[0] = 'oov'"
      ],
      "metadata": {
        "id": "ycRygVo-86UE"
      },
      "execution_count": 4,
      "outputs": []
    },
    {
      "cell_type": "markdown",
      "source": [
        "### Data Pre-Processing "
      ],
      "metadata": {
        "id": "o_jEwNJx_uOh"
      }
    },
    {
      "cell_type": "code",
      "source": [
        "def generate_embedding_matrix(sentence):\n",
        "\n",
        "    tokens_ = nltk.word_tokenize(sentence)\n",
        "    tokens = []\n",
        "\n",
        "    for i in tokens_:\n",
        "      if i not in string.punctuation:\n",
        "        tokens.append(i.lower())\n",
        "    # sentence = sentence.lower()\n",
        "    # sentence = re.sub('[^a-z0-9]',' ',sentence)\n",
        "    # Tokenize the sentence and do the padding\n",
        "    \n",
        "    word_to_vec = []\n",
        "    # Loop over the tokens and generate their embeddings\n",
        "    for i, token in enumerate(tokens):\n",
        "        if token in word_to_index:\n",
        "            word_to_vec.append(word_to_index[token])\n",
        "        else:\n",
        "            word_to_vec.append(word_to_index['oov'])\n",
        "\n",
        "    # print(word_to_vec)\n",
        "\n",
        "    word_to_vec = np.array(word_to_vec)\n",
        "    word_to_vec=word_to_vec.reshape(1,word_to_vec.shape[0])\n",
        "    word_to_vec = pad_sequences(word_to_vec, maxlen=sentence_length, truncating='post', padding='post')\n",
        "\n",
        "    # Initialize an empty matrix with shape (sentence_length, 300)\n",
        "    embedding_matrix = np.zeros((sentence_length, 300))\n",
        "    \n",
        "    # Loop over the tokens and generate their embeddings\n",
        "    for i, token in enumerate(word_to_vec[0]):\n",
        "        embedding_matrix[i, :] = embed_dict[index_to_word[token]]\n",
        "    return embedding_matrix"
      ],
      "metadata": {
        "id": "naKU8eRX_sgZ"
      },
      "execution_count": 11,
      "outputs": []
    },
    {
      "cell_type": "code",
      "source": [
        "def get_input(filename):\n",
        "  with open(filename) as f:\n",
        "    lines = [line.rstrip('\\n') for line in f]\n",
        "  s1_embedding_matrix_list,s2_embedding_matrix_list,actual_scores = list(),list(),list()\n",
        "  for line in lines:\n",
        "    # _,_,_,_,score,s1,s2 = line.split('\\t')[:7]\n",
        "    s1,s2,score = line.split('\\t')\n",
        "    s1_embedding_matrix_list.append(generate_embedding_matrix(s1))\n",
        "    s2_embedding_matrix_list.append(generate_embedding_matrix(s2))\n",
        "    actual_scores.append(eval(score))\n",
        "\n",
        "  s1_embedding_matrix_list = np.array(s1_embedding_matrix_list)\n",
        "  s2_embedding_matrix_list = np.array(s2_embedding_matrix_list)\n",
        "  actual_scores = np.array(actual_scores)\n",
        "  return s1_embedding_matrix_list,s2_embedding_matrix_list,actual_scores"
      ],
      "metadata": {
        "id": "R95XpJG3DYId"
      },
      "execution_count": 12,
      "outputs": []
    },
    {
      "cell_type": "code",
      "source": [
        "def generate_one_hot_lists(arr):\n",
        "    # Compute the fractional parts of the array elements\n",
        "    fracs = np.mod(arr, 1)\n",
        "    # Compute the distances from the nearest integers\n",
        "    cfracs = 1 - fracs\n",
        "    actual =  np.int64(arr - fracs)\n",
        "    dists = np.minimum(fracs, 1 - fracs)\n",
        "\n",
        "    # Compute the one-hot encoding of the distances\n",
        "    one_hots = np.zeros((arr.shape[0], 6))\n",
        "    for i in range(len(arr)):\n",
        "      temp = np.zeros(6,)\n",
        "      if fracs[i] == 0.0:\n",
        "        temp[actual[i]] = 1.0\n",
        "      else:\n",
        "        temp[actual[i]] = cfracs[i]\n",
        "        temp[actual[i]+1] = fracs[i] \n",
        "      one_hots[i,:] = temp \n",
        "    return one_hots"
      ],
      "metadata": {
        "id": "pJSgC2TBDhH5"
      },
      "execution_count": 13,
      "outputs": []
    },
    {
      "cell_type": "code",
      "source": [
        "train = '/content/drive/MyDrive/Colab Notebooks/Working/en/en-train.txt'\n",
        "validation ='/content/drive/MyDrive/Colab Notebooks/Working/en/en-val.txt'\n",
        "test = '/content/drive/MyDrive/Colab Notebooks/Working/en/test-sentences-2017.txt'\n",
        "\n",
        "train_data, validation_data,  test_data = get_input(train), get_input(validation),  get_input(test)\n",
        "\n",
        "train_x_1,      train_x_2,      train_y       = train_data[0],      train_data[1],      generate_one_hot_lists(train_data[2]) \n",
        "validation_x_1, validation_x_2, validation_y  = validation_data[0], validation_data[1], generate_one_hot_lists(validation_data[2]) \n",
        "test_x_1,       test_x_2,       test_y        = test_data[0],       test_data[1],       generate_one_hot_lists(test_data[2]) "
      ],
      "metadata": {
        "id": "7SOEGnWiD1MH"
      },
      "execution_count": 14,
      "outputs": []
    },
    {
      "cell_type": "code",
      "source": [
        "#Analyise Dataset..\n",
        "def get_avg_sentence_length(sentences):\n",
        "    # Get the total number of words in all sentences\n",
        "    total_words = sum([len(sentence.split()) for sentence in sentences])\n",
        "\n",
        "    # Calculate the average sentence length\n",
        "    avg_sentence_length = total_words / len(sentences)\n",
        "\n",
        "    return avg_sentence_length\n",
        "\n",
        "def plot_sentence_length_variation(sentences):\n",
        "    # Get the length of each sentence\n",
        "    sentence_lengths = [len(sentence.split()) for sentence in sentences]\n",
        "\n",
        "    # Plot the sentence length distribution\n",
        "    plt.hist(sentence_lengths, bins=range(0, max(sentence_lengths) + 1, 5))\n",
        "    plt.title('Sentence Length Distribution')\n",
        "    plt.xlabel('Sentence Length')\n",
        "    plt.ylabel('Number of Sentences')\n",
        "    plt.show()\n"
      ],
      "metadata": {
        "id": "6MSMPiXGF1W3"
      },
      "execution_count": 24,
      "outputs": []
    },
    {
      "cell_type": "code",
      "source": [
        "with open(train) as f:\n",
        "    lines = f.readlines()\n",
        "s1,s2 = list(),list()\n",
        "for line in lines:\n",
        "  a,b,s = line.split('\\t')\n",
        "  s1.append(a)\n",
        "  s2.append(b)\n",
        "\n",
        "avg_sentence_length = get_avg_sentence_length(s1)\n",
        "print('Average sentence length:', avg_sentence_length)\n",
        "plot_sentence_length_variation(s1)"
      ],
      "metadata": {
        "colab": {
          "base_uri": "https://localhost:8080/",
          "height": 490
        },
        "id": "E-u491XsHAZT",
        "outputId": "6f21e5de-649a-483c-b1d0-eed779e061a6"
      },
      "execution_count": 25,
      "outputs": [
        {
          "output_type": "stream",
          "name": "stdout",
          "text": [
            "Average sentence length: 11.32315750093528\n"
          ]
        },
        {
          "output_type": "display_data",
          "data": {
            "text/plain": [
              "<Figure size 640x480 with 1 Axes>"
            ],
            "image/png": "[encoded data removed]"
          },
          "metadata": {}
        }
      ]
    },
    {
      "cell_type": "code",
      "source": [
        "count = 0\n",
        "for sentence in s1:\n",
        "    if len(sentence.split()) <= 40:\n",
        "        count += 1\n",
        "print('Number of sentences greater than 40 words:', count)\n",
        "print('Percentage they are covering:',count/len(s1)*100)"
      ],
      "metadata": {
        "colab": {
          "base_uri": "https://localhost:8080/"
        },
        "id": "-bk1gqq7H1ri",
        "outputId": "c4bb9476-89e2-4ebb-e6a0-7c5e58a1eba0"
      },
      "execution_count": 28,
      "outputs": [
        {
          "output_type": "stream",
          "name": "stdout",
          "text": [
            "Number of sentences greater than 40 words: 13194\n",
            "Percentage they are covering: 98.72053872053871\n"
          ]
        }
      ]
    },
    {
      "cell_type": "code",
      "source": [
        "train_x_1.shape,validation_x_1.shape,test_x_1.shape,test_y.shape"
      ],
      "metadata": {
        "colab": {
          "base_uri": "https://localhost:8080/"
        },
        "id": "3xg8iRkmEt-Y",
        "outputId": "a4907068-5b6f-4fa9-f43b-9da7f353cc63"
      },
      "execution_count": 19,
      "outputs": [
        {
          "output_type": "execute_result",
          "data": {
            "text/plain": [
              "((13365, 40, 300), (1500, 40, 300), (250, 40, 300), (250, 6))"
            ]
          },
          "metadata": {},
          "execution_count": 19
        }
      ]
    },
    {
      "cell_type": "markdown",
      "source": [
        "### Model"
      ],
      "metadata": {
        "id": "S4AfqqS3Jvaa"
      }
    },
    {
      "cell_type": "code",
      "source": [
        "def _lossfunction(y_true,y_pred):\n",
        "  ny_true = y_true[:,1] + 2*y_true[:,2] + 3*y_true[:,3] + 4*y_true[:,4] + 5*y_true[:,5]\n",
        "  ny_pred = y_pred[:,1] + 2*y_pred[:,2] + 3*y_pred[:,3] + 4*y_pred[:,4] + 5*y_pred[:,5]\n",
        "  my_true = K.mean(ny_true)\n",
        "  my_pred = K.mean(ny_pred)\n",
        "  var_true = (ny_true - my_true)**2\n",
        "  var_pred = (ny_pred - my_pred)**2\n",
        "  return -K.sum((ny_true-my_true)*(ny_pred-my_pred),axis=-1) / (K.sqrt(K.sum(var_true,axis=-1)*K.sum(var_pred,axis=-1)))"
      ],
      "metadata": {
        "id": "IGn_S6weFVD6"
      },
      "execution_count": 30,
      "outputs": []
    },
    {
      "cell_type": "code",
      "source": [
        "sentence1 = Input(shape=(sentence_length,embedding_size))\n",
        "sentence2 = Input(shape=(sentence_length,embedding_size))\n",
        "cnn_layer = Conv1D(filters = no_of_filters,\n",
        "                    kernel_size = kernel_size,\n",
        "                    activation='relu',\n",
        "                    kernel_initializer=cnn_kernel_initializer)\n",
        "\n",
        "cnn_layer1 = cnn_layer(sentence1)\n",
        "cnn_layer2 = cnn_layer(sentence2)\n",
        "\n",
        "max_pool = MaxPool1D(pool_size=padding_size-kernel_size+1)\n",
        "\n",
        "max_pool1 = max_pool(cnn_layer1)\n",
        "max_pool2 = max_pool(cnn_layer2)\n",
        "flatten = Flatten()\n",
        "\n",
        "flatten1 = flatten(max_pool1)\n",
        "flatten2 = flatten(max_pool2)\n",
        "\n",
        "absDifference = Lambda(lambda X:K.abs(X[0] - X[1]))([flatten1,flatten2])\n",
        "\n",
        "mulDifference = multiply([flatten1,flatten2])\n",
        "\n",
        "allDifference = concatenate([absDifference,mulDifference])\n",
        "\n",
        "Denselayer_1 = Dense(no_of_units_ds1,activation='tanh',kernel_initializer=cnn_kernel_initializer)(allDifference)\n",
        "\n",
        "output = Dense(name='output',units=output_units,activation='softmax',kernel_initializer=cnn_kernel_initializer)(Denselayer_1)\n",
        "\n",
        "model = Model(inputs=[sentence1,sentence2], outputs=output)\n",
        "\n",
        "model.summary()"
      ],
      "metadata": {
        "colab": {
          "base_uri": "https://localhost:8080/"
        },
        "id": "V6DnoYjnLRuc",
        "outputId": "f4d00be0-9bc2-4309-f4a2-7e4c8fb21f00"
      },
      "execution_count": 31,
      "outputs": [
        {
          "output_type": "stream",
          "name": "stdout",
          "text": [
            "Model: \"model\"\n",
            "__________________________________________________________________________________________________\n",
            "Layer (type)                    Output Shape         Param #     Connected to                     \n",
            "==================================================================================================\n",
            "input_1 (InputLayer)            [(None, 40, 300)]    0                                            \n",
            "__________________________________________________________________________________________________\n",
            "input_2 (InputLayer)            [(None, 40, 300)]    0                                            \n",
            "__________________________________________________________________________________________________\n",
            "conv1d (Conv1D)                 (None, 40, 300)      90300       input_1[0][0]                    \n",
            "                                                                 input_2[0][0]                    \n",
            "__________________________________________________________________________________________________\n",
            "max_pooling1d (MaxPooling1D)    (None, 1, 300)       0           conv1d[0][0]                     \n",
            "                                                                 conv1d[1][0]                     \n",
            "__________________________________________________________________________________________________\n",
            "flatten (Flatten)               (None, 300)          0           max_pooling1d[0][0]              \n",
            "                                                                 max_pooling1d[1][0]              \n",
            "__________________________________________________________________________________________________\n",
            "lambda (Lambda)                 (None, 300)          0           flatten[0][0]                    \n",
            "                                                                 flatten[1][0]                    \n",
            "__________________________________________________________________________________________________\n",
            "multiply (Multiply)             (None, 300)          0           flatten[0][0]                    \n",
            "                                                                 flatten[1][0]                    \n",
            "__________________________________________________________________________________________________\n",
            "concatenate (Concatenate)       (None, 600)          0           lambda[0][0]                     \n",
            "                                                                 multiply[0][0]                   \n",
            "__________________________________________________________________________________________________\n",
            "dense (Dense)                   (None, 300)          180300      concatenate[0][0]                \n",
            "__________________________________________________________________________________________________\n",
            "output (Dense)                  (None, 6)            1806        dense[0][0]                      \n",
            "==================================================================================================\n",
            "Total params: 272,406\n",
            "Trainable params: 272,406\n",
            "Non-trainable params: 0\n",
            "__________________________________________________________________________________________________\n"
          ]
        }
      ]
    },
    {
      "cell_type": "code",
      "source": [
        "model.compile(loss=_lossfunction, optimizer='Adam')"
      ],
      "metadata": {
        "id": "VeGOWNr-LyB1"
      },
      "execution_count": 38,
      "outputs": []
    },
    {
      "cell_type": "code",
      "source": [
        "def eval_model(model):\n",
        "  predictionclasses = list(model.predict([validation_x_1,validation_x_2]))\n",
        "  prediction = np.dot(np.array(predictionclasses),np.arange(6))\n",
        "  goldlabels = validation_data[2]\n",
        "  result=pearsonr(prediction, goldlabels)[0]\n",
        "  print('Validation PCC:',result)\n",
        "  return round(result,4)"
      ],
      "metadata": {
        "id": "BOTxBhopL_A6"
      },
      "execution_count": 39,
      "outputs": []
    },
    {
      "cell_type": "code",
      "source": [
        "class Evaluate(Callback):\n",
        "  def __init__(self, task, wfname):\n",
        "    self.task       = task\n",
        "    self.bestresult = 0.0\n",
        "    self.wfname     = wfname\n",
        "  def on_epoch_end(self, epoch, logs={}):\n",
        "    validresult = eval_model(self.task)\n",
        "    if validresult > self.bestresult:\n",
        "      self.bestresult = validresult\n",
        "      self.task.save(self.wfname)"
      ],
      "metadata": {
        "id": "R0qb-ZVDNGpP"
      },
      "execution_count": 40,
      "outputs": []
    },
    {
      "cell_type": "code",
      "source": [
        "early_stopping = EarlyStopping(\n",
        "        monitor=\"val_loss\",\n",
        "        patience=4,\n",
        "        verbose=1,\n",
        "        mode=\"min\",\n",
        "        restore_best_weights=True, \n",
        "     )"
      ],
      "metadata": {
        "id": "VsvbHxE1Nq1N"
      },
      "execution_count": 41,
      "outputs": []
    },
    {
      "cell_type": "code",
      "source": [
        "history = model.fit(x=[train_x_1,train_x_2],\n",
        "                    y=train_y,\n",
        "                    callbacks=[Evaluate(model,'/content/drive/MyDrive/Colab Notebooks/Working/best_model_cnn.h5')],\n",
        "                    batch_size=batch_size,\n",
        "                    epochs = 60,\n",
        "                    verbose = 1)"
      ],
      "metadata": {
        "colab": {
          "base_uri": "https://localhost:8080/"
        },
        "id": "94u93x2NNwsd",
        "outputId": "8560c338-ebb2-4161-a5e9-92a89627fc1d"
      },
      "execution_count": 42,
      "outputs": [
        {
          "output_type": "stream",
          "name": "stdout",
          "text": [
            "Epoch 1/60\n",
            "45/45 [==============================] - 16s 327ms/step - loss: -0.8721\n",
            "Validation PCC: 0.8216269240674814\n",
            "Epoch 2/60\n",
            "45/45 [==============================] - 12s 276ms/step - loss: -0.9140\n",
            "Validation PCC: 0.8217212053374867\n",
            "Epoch 3/60\n",
            "45/45 [==============================] - 11s 251ms/step - loss: -0.9355\n",
            "Validation PCC: 0.8197238669065215\n",
            "Epoch 4/60\n",
            "45/45 [==============================] - 13s 275ms/step - loss: -0.9511\n",
            "Validation PCC: 0.821146517615798\n",
            "Epoch 5/60\n",
            "45/45 [==============================] - 13s 290ms/step - loss: -0.9621\n",
            "Validation PCC: 0.8173039259726749\n",
            "Epoch 6/60\n",
            "45/45 [==============================] - 13s 297ms/step - loss: -0.9692\n",
            "Validation PCC: 0.8161577832362638\n",
            "Epoch 7/60\n",
            "45/45 [==============================] - 13s 289ms/step - loss: -0.9743\n",
            "Validation PCC: 0.81506817494134\n",
            "Epoch 8/60\n",
            "45/45 [==============================] - 13s 287ms/step - loss: -0.9767\n",
            "Validation PCC: 0.8202755645041007\n",
            "Epoch 9/60\n",
            "45/45 [==============================] - 13s 297ms/step - loss: -0.9787\n",
            "Validation PCC: 0.8124042006588381\n",
            "Epoch 10/60\n",
            "45/45 [==============================] - 13s 295ms/step - loss: -0.9821\n",
            "Validation PCC: 0.8148107138795911\n",
            "Epoch 11/60\n",
            "45/45 [==============================] - 13s 294ms/step - loss: -0.9844\n",
            "Validation PCC: 0.8106912728233634\n",
            "Epoch 12/60\n",
            "45/45 [==============================] - 16s 353ms/step - loss: -0.9861\n",
            "Validation PCC: 0.8118718243003534\n",
            "Epoch 13/60\n",
            "45/45 [==============================] - 13s 301ms/step - loss: -0.9876\n",
            "Validation PCC: 0.8131104425348166\n",
            "Epoch 14/60\n",
            "45/45 [==============================] - 13s 295ms/step - loss: -0.9892\n",
            "Validation PCC: 0.8126867823797065\n",
            "Epoch 15/60\n",
            "45/45 [==============================] - 13s 292ms/step - loss: -0.9897\n",
            "Validation PCC: 0.8145951444850165\n",
            "Epoch 16/60\n",
            "45/45 [==============================] - 11s 252ms/step - loss: -0.9902\n",
            "Validation PCC: 0.8100127612513629\n",
            "Epoch 17/60\n",
            "45/45 [==============================] - 12s 260ms/step - loss: -0.9906\n",
            "Validation PCC: 0.8126366394518236\n",
            "Epoch 18/60\n",
            "45/45 [==============================] - 14s 304ms/step - loss: -0.9912\n",
            "Validation PCC: 0.8126572709845993\n",
            "Epoch 19/60\n",
            "45/45 [==============================] - 13s 287ms/step - loss: -0.9920\n",
            "Validation PCC: 0.8136924821307089\n",
            "Epoch 20/60\n",
            "45/45 [==============================] - 23s 521ms/step - loss: -0.9917\n",
            "Validation PCC: 0.8133746931624083\n",
            "Epoch 21/60\n",
            "45/45 [==============================] - 14s 321ms/step - loss: -0.9921\n",
            "Validation PCC: 0.813799272868289\n",
            "Epoch 22/60\n",
            "45/45 [==============================] - 13s 295ms/step - loss: -0.9925\n",
            "Validation PCC: 0.814904777322589\n",
            "Epoch 23/60\n",
            "45/45 [==============================] - 13s 294ms/step - loss: -0.9933\n",
            "Validation PCC: 0.8119362891763766\n",
            "Epoch 24/60\n",
            "45/45 [==============================] - 15s 337ms/step - loss: -0.9934\n",
            "Validation PCC: 0.8153462044429539\n",
            "Epoch 25/60\n",
            "45/45 [==============================] - 17s 376ms/step - loss: -0.9938\n",
            "Validation PCC: 0.8156746750630145\n",
            "Epoch 26/60\n",
            "45/45 [==============================] - 14s 302ms/step - loss: -0.9943\n",
            "Validation PCC: 0.8183679332094085\n",
            "Epoch 27/60\n",
            "45/45 [==============================] - 13s 296ms/step - loss: -0.9945\n",
            "Validation PCC: 0.8155816343584623\n",
            "Epoch 28/60\n",
            "45/45 [==============================] - 14s 304ms/step - loss: -0.9944\n",
            "Validation PCC: 0.8190220799803328\n",
            "Epoch 29/60\n",
            "45/45 [==============================] - 18s 396ms/step - loss: -0.9945\n",
            "Validation PCC: 0.8179304096100907\n",
            "Epoch 30/60\n",
            "45/45 [==============================] - 13s 297ms/step - loss: -0.9948\n",
            "Validation PCC: 0.8182793733128388\n",
            "Epoch 31/60\n",
            "45/45 [==============================] - 13s 296ms/step - loss: -0.9950\n",
            "Validation PCC: 0.8161784909245645\n",
            "Epoch 32/60\n",
            "45/45 [==============================] - 18s 411ms/step - loss: -0.9953\n",
            "Validation PCC: 0.8167389440001119\n",
            "Epoch 33/60\n",
            "45/45 [==============================] - 21s 469ms/step - loss: -0.9953\n",
            "Validation PCC: 0.8183406799820766\n",
            "Epoch 34/60\n",
            "45/45 [==============================] - 19s 412ms/step - loss: -0.9954\n",
            "Validation PCC: 0.8198285025141381\n",
            "Epoch 35/60\n",
            "45/45 [==============================] - 15s 336ms/step - loss: -0.9955\n",
            "Validation PCC: 0.817869504388043\n",
            "Epoch 36/60\n",
            "45/45 [==============================] - 13s 290ms/step - loss: -0.9954\n",
            "Validation PCC: 0.8170853528832583\n",
            "Epoch 37/60\n",
            "45/45 [==============================] - 13s 296ms/step - loss: -0.9954\n",
            "Validation PCC: 0.8179866517721934\n",
            "Epoch 38/60\n",
            "45/45 [==============================] - 13s 293ms/step - loss: -0.9955\n",
            "Validation PCC: 0.82021833994872\n",
            "Epoch 39/60\n",
            "45/45 [==============================] - 13s 298ms/step - loss: -0.9956\n",
            "Validation PCC: 0.8227852003050384\n",
            "Epoch 40/60\n",
            "45/45 [==============================] - 14s 304ms/step - loss: -0.9957\n",
            "Validation PCC: 0.8207388645948073\n",
            "Epoch 41/60\n",
            "45/45 [==============================] - 13s 286ms/step - loss: -0.9956\n",
            "Validation PCC: 0.8222498046586773\n",
            "Epoch 42/60\n",
            "45/45 [==============================] - 17s 371ms/step - loss: -0.9956\n",
            "Validation PCC: 0.820810740288864\n",
            "Epoch 43/60\n",
            "45/45 [==============================] - 13s 289ms/step - loss: -0.9957\n",
            "Validation PCC: 0.8236701080986734\n",
            "Epoch 44/60\n",
            "45/45 [==============================] - 13s 296ms/step - loss: -0.9957\n",
            "Validation PCC: 0.8217701668906364\n",
            "Epoch 45/60\n",
            "45/45 [==============================] - 12s 278ms/step - loss: -0.9957\n",
            "Validation PCC: 0.8234524069497063\n",
            "Epoch 46/60\n",
            "45/45 [==============================] - 12s 264ms/step - loss: -0.9954\n",
            "Validation PCC: 0.822128563797092\n",
            "Epoch 47/60\n",
            "45/45 [==============================] - 14s 310ms/step - loss: -0.9956\n",
            "Validation PCC: 0.8228657024416535\n",
            "Epoch 48/60\n",
            "45/45 [==============================] - 12s 268ms/step - loss: -0.9958\n",
            "Validation PCC: 0.8210407411320414\n",
            "Epoch 49/60\n",
            "45/45 [==============================] - 13s 279ms/step - loss: -0.9960\n",
            "Validation PCC: 0.8264484122611941\n",
            "Epoch 50/60\n",
            "45/45 [==============================] - 14s 303ms/step - loss: -0.9959\n",
            "Validation PCC: 0.8235982217805362\n",
            "Epoch 51/60\n",
            "45/45 [==============================] - 13s 296ms/step - loss: -0.9960\n",
            "Validation PCC: 0.8267064894956403\n",
            "Epoch 52/60\n",
            "45/45 [==============================] - 13s 299ms/step - loss: -0.9963\n",
            "Validation PCC: 0.8247434099115116\n",
            "Epoch 53/60\n",
            "45/45 [==============================] - 13s 300ms/step - loss: -0.9962\n",
            "Validation PCC: 0.8258433479837127\n",
            "Epoch 54/60\n",
            "45/45 [==============================] - 13s 300ms/step - loss: -0.9962\n",
            "Validation PCC: 0.8252339343582651\n",
            "Epoch 55/60\n",
            "45/45 [==============================] - 13s 298ms/step - loss: -0.9960\n",
            "Validation PCC: 0.8248225655125575\n",
            "Epoch 56/60\n",
            "45/45 [==============================] - 13s 297ms/step - loss: -0.9960\n",
            "Validation PCC: 0.8238061800093528\n",
            "Epoch 57/60\n",
            "45/45 [==============================] - 13s 292ms/step - loss: -0.9961\n",
            "Validation PCC: 0.8238500643547398\n",
            "Epoch 58/60\n",
            "45/45 [==============================] - 13s 299ms/step - loss: -0.9962\n",
            "Validation PCC: 0.8270427087982155\n",
            "Epoch 59/60\n",
            "45/45 [==============================] - 13s 298ms/step - loss: -0.9962\n",
            "Validation PCC: 0.8259295866388505\n",
            "Epoch 60/60\n",
            "45/45 [==============================] - 12s 274ms/step - loss: -0.9963\n",
            "Validation PCC: 0.825917617858873\n"
          ]
        }
      ]
    },
    {
      "cell_type": "code",
      "source": [
        "# loaded_model = load_model('/content/drive/MyDrive/Colab Notebooks/Working/best_model_cnn')"
      ],
      "metadata": {
        "id": "S5nsab8aRJTJ"
      },
      "execution_count": 50,
      "outputs": []
    },
    {
      "cell_type": "code",
      "source": [
        "predictionclasses = list(model.predict([test_x_1,test_x_2]))\n",
        "prediction = np.dot(np.array(predictionclasses),np.arange(6))\n",
        "goldlabels = test_data[2]\n",
        "pearsonr(np.round(prediction,4), goldlabels)[0]"
      ],
      "metadata": {
        "colab": {
          "base_uri": "https://localhost:8080/"
        },
        "id": "wP_K74rUSvaw",
        "outputId": "54167b91-8dd6-4108-ada4-cec4e4b6b639"
      },
      "execution_count": 51,
      "outputs": [
        {
          "output_type": "execute_result",
          "data": {
            "text/plain": [
              "0.7738344798623414"
            ]
          },
          "metadata": {},
          "execution_count": 51
        }
      ]
    }
  ]
}