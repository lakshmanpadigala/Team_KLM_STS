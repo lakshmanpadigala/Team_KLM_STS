{
  "nbformat": 4,
  "nbformat_minor": 0,
  "metadata": {
    "colab": {
      "provenance": []
    },
    "kernelspec": {
      "name": "python3",
      "display_name": "Python 3"
    },
    "language_info": {
      "name": "python"
    }
  },
  "cells": [
    {
      "cell_type": "code",
      "execution_count": null,
      "metadata": {
        "id": "8R-Qizu88ef4"
      },
      "outputs": [],
      "source": [
        "from nltk.tokenize import RegexpTokenizer\n",
        "import numpy as np\n",
        "import re\n",
        "from keras.utils import pad_sequences\n",
        "from keras.callbacks import EarlyStopping\n",
        "import random,copy,string\n",
        "import matplotlib.pyplot as plt\n",
        "import nltk\n",
        "import multiprocessing as mp\n",
        "import random,copy,string\n",
        "from scipy.stats import pearsonr\n",
        "from tensorflow.python.keras import backend as K\n",
        "from tensorflow.python.keras.models import Model\n",
        "from tensorflow.python.keras.layers import Input, Conv1D,  MaxPool1D, Flatten\n",
        "from tensorflow.python.keras.layers import Lambda, multiply, concatenate, Dense\n",
        "from tensorflow.python.keras.callbacks import Callback\n",
        "# from keras.optimizers import Adam\n",
        "from keras.models import load_model\n",
        "import tensorflow as tf\n",
        "from nltk.tokenize import TreebankWordTokenizer\n",
        "nltk.download('punkt')"
      ]
    },
    {
      "cell_type": "code",
      "source": [
        "from google.colab import drive\n",
        "drive.mount('/content/drive')"
      ],
      "metadata": {
        "colab": {
          "base_uri": "https://localhost:8080/"
        },
        "id": "T8KsBjT99H5c",
        "outputId": "67a37300-c882-400f-8a3b-65ed9c7499cf"
      },
      "execution_count": null,
      "outputs": [
        {
          "output_type": "stream",
          "name": "stdout",
          "text": [
            "Mounted at /content/drive\n"
          ]
        }
      ]
    },
    {
      "cell_type": "code",
      "source": [
        "with open('/content/drive/MyDrive/Colab Notebooks/Working/es_final/es_test_pairs.txt', 'r') as f1, open('/content/drive/MyDrive/Colab Notebooks/Working/es_final/es_test_y.txt', 'r') as f2, open('/content/drive/MyDrive/Colab Notebooks/Working/es_final/es_test.txt', 'w') as fout:\n",
        "    for line1, line2 in zip(f1, f2):\n",
        "        line2 = line2.strip()\n",
        "        # line2 = (float(line2) / 4 )*5\n",
        "        # print(line2)\n",
        "        combined_line = line1.strip() + '\\t' + line2 + '\\n'\n",
        "        fout.write(combined_line)"
      ],
      "metadata": {
        "id": "kUW_oDFj2yHy"
      },
      "execution_count": null,
      "outputs": []
    },
    {
      "cell_type": "markdown",
      "source": [
        "###HYPER - PARAMETERS"
      ],
      "metadata": {
        "id": "QUiFKm508zbH"
      }
    },
    {
      "cell_type": "code",
      "source": [
        "sentence_length, padding_size = 80,80\n",
        "embedding_size = 300\n",
        "no_of_filters = 300\n",
        "kernel_size = 1\n",
        "cnn_activation_function = 'relu'\n",
        "cnn_kernel_initializer = 'he_uniform'\n",
        "no_of_units_ds1 = 300\n",
        "output_units = 6\n",
        "optimizer = 'adam'\n",
        "batch_size = 300\n",
        "num_batches = 2"
      ],
      "metadata": {
        "id": "SWXQS0bN8vmJ"
      },
      "execution_count": null,
      "outputs": []
    },
    {
      "cell_type": "markdown",
      "source": [
        "### Glove embedding"
      ],
      "metadata": {
        "id": "kIfvLRNg9TJd"
      }
    },
    {
      "cell_type": "code",
      "source": [
        "word_to_index = dict()\n",
        "index_to_word = dict()\n",
        "index = 1\n",
        "embed_dict = {}\n",
        "embed_dict['oov'] = np.zeros(300)\n",
        "\n",
        "with open('/content/drive/MyDrive/Colab Notebooks/Working/SBW-vectors-300-min5.txt','r') as f:  #/content/drive/MyDrive/NLP/glove.840B.300d.txt /content/drive/MyDrive/smai/glove/glove.6B.300d.txt\n",
        "  for line in f:\n",
        "    values = line.split(' ')\n",
        "    word = values[0]\n",
        "    vector = np.asarray(values[1:],'float32')\n",
        "    embed_dict[word]=vector\n",
        "    word_to_index[word] = index\n",
        "    index_to_word[index] = word\n",
        "    index+=1\n",
        "\n",
        "word_to_index['oov'] = 0\n",
        "index_to_word[0] = 'oov'"
      ],
      "metadata": {
        "id": "ycRygVo-86UE"
      },
      "execution_count": null,
      "outputs": []
    },
    {
      "cell_type": "markdown",
      "source": [
        "### Data Pre-Processing "
      ],
      "metadata": {
        "id": "o_jEwNJx_uOh"
      }
    },
    {
      "cell_type": "code",
      "source": [
        "def generate_embedding_matrix(sentence):\n",
        "\n",
        "    sentence = re.sub('[^a-z0-9áéíóúüñ]', ' ', sentence.lower())\n",
        "\n",
        "    # Tokenize the sentence and do the padding\n",
        "    tokens = sentence.split()\n",
        "    \n",
        "    word_to_vec = []\n",
        "    # Loop over the tokens and generate their embeddings\n",
        "    for i, token in enumerate(tokens):\n",
        "        if token in word_to_index:\n",
        "            word_to_vec.append(word_to_index[token])\n",
        "        else:\n",
        "            word_to_vec.append(word_to_index['oov'])\n",
        "\n",
        "    # print(word_to_vec)\n",
        "\n",
        "    word_to_vec = np.array(word_to_vec)\n",
        "    word_to_vec=word_to_vec.reshape(1,word_to_vec.shape[0])\n",
        "    word_to_vec = pad_sequences(word_to_vec, maxlen=sentence_length, truncating='post', padding='post')\n",
        "\n",
        "    # Initialize an empty matrix with shape (sentence_length, 300)\n",
        "    embedding_matrix = np.zeros((sentence_length, 300))\n",
        "    \n",
        "    # Loop over the tokens and generate their embeddings\n",
        "    for i, token in enumerate(word_to_vec[0]):\n",
        "        embedding_matrix[i, :] = embed_dict[index_to_word[token]]\n",
        "    return embedding_matrix"
      ],
      "metadata": {
        "id": "naKU8eRX_sgZ"
      },
      "execution_count": null,
      "outputs": []
    },
    {
      "cell_type": "code",
      "source": [
        "def get_input(filename):\n",
        "  with open(filename) as f:\n",
        "    lines = [line.rstrip('\\n') for line in f]\n",
        "  s1_embedding_matrix_list,s2_embedding_matrix_list,actual_scores = list(),list(),list()\n",
        "  for line in lines:\n",
        "    # _,_,_,_,score,s1,s2 = line.split('\\t')[:7]\n",
        "    s1,s2,score = line.split('\\t')\n",
        "    s1_embedding_matrix_list.append(generate_embedding_matrix(s1))\n",
        "    s2_embedding_matrix_list.append(generate_embedding_matrix(s2))\n",
        "    actual_scores.append(eval(score))\n",
        "\n",
        "  s1_embedding_matrix_list = np.array(s1_embedding_matrix_list)\n",
        "  s2_embedding_matrix_list = np.array(s2_embedding_matrix_list)\n",
        "  actual_scores = np.array(actual_scores)\n",
        "  return s1_embedding_matrix_list,s2_embedding_matrix_list,actual_scores"
      ],
      "metadata": {
        "id": "R95XpJG3DYId"
      },
      "execution_count": null,
      "outputs": []
    },
    {
      "cell_type": "code",
      "source": [
        "def generate_one_hot_lists(arr):\n",
        "    # Compute the fractional parts of the array elements\n",
        "    fracs = np.mod(arr, 1)\n",
        "    # Compute the distances from the nearest integers\n",
        "    cfracs = 1 - fracs\n",
        "    actual =  np.int64(arr - fracs)\n",
        "    dists = np.minimum(fracs, 1 - fracs)\n",
        "\n",
        "    # Compute the one-hot encoding of the distances\n",
        "    one_hots = np.zeros((arr.shape[0], 6))\n",
        "    for i in range(len(arr)):\n",
        "      temp = np.zeros(6,)\n",
        "      if fracs[i] == 0.0:\n",
        "        temp[actual[i]] = 1.0\n",
        "      else:\n",
        "        temp[actual[i]] = cfracs[i]\n",
        "        temp[actual[i]+1] = fracs[i] \n",
        "      one_hots[i,:] = temp \n",
        "    return one_hots"
      ],
      "metadata": {
        "id": "pJSgC2TBDhH5"
      },
      "execution_count": null,
      "outputs": []
    },
    {
      "cell_type": "code",
      "source": [
        "train = '/content/drive/MyDrive/Colab Notebooks/Working/es_final/es_train.txt'\n",
        "validation ='/content/drive/MyDrive/Colab Notebooks/Working/es_final/es_val.txt'\n",
        "test = '/content/drive/MyDrive/Colab Notebooks/Working/es_final/es_test.txt'\n",
        "\n",
        "train_data, validation_data,  test_data = get_input(train), get_input(validation),  get_input(test)\n",
        "\n",
        "train_x_1,      train_x_2,      train_y       = train_data[0],      train_data[1],      generate_one_hot_lists(train_data[2]) \n",
        "validation_x_1, validation_x_2, validation_y  = validation_data[0], validation_data[1], generate_one_hot_lists(validation_data[2]) \n",
        "test_x_1,       test_x_2,       test_y        = test_data[0],       test_data[1],       generate_one_hot_lists(test_data[2]) "
      ],
      "metadata": {
        "id": "7SOEGnWiD1MH"
      },
      "execution_count": null,
      "outputs": []
    },
    {
      "cell_type": "code",
      "source": [
        "#Analyise Dataset..\n",
        "def get_avg_sentence_length(sentences):\n",
        "    # Get the total number of words in all sentences\n",
        "    total_words = sum([len(sentence.split()) for sentence in sentences])\n",
        "\n",
        "    # Calculate the average sentence length\n",
        "    avg_sentence_length = total_words / len(sentences)\n",
        "\n",
        "    return avg_sentence_length\n",
        "\n",
        "def plot_sentence_length_variation(sentences):\n",
        "    # Get the length of each sentence\n",
        "    sentence_lengths = [len(sentence.split()) for sentence in sentences]\n",
        "\n",
        "    # Plot the sentence length distribution\n",
        "    plt.hist(sentence_lengths, bins=range(0, max(sentence_lengths) + 1, 5))\n",
        "    plt.title('Sentence Length Distribution')\n",
        "    plt.xlabel('Sentence Length')\n",
        "    plt.ylabel('Number of Sentences')\n",
        "    plt.show()\n"
      ],
      "metadata": {
        "id": "6MSMPiXGF1W3"
      },
      "execution_count": null,
      "outputs": []
    },
    {
      "cell_type": "code",
      "source": [
        "with open(train) as f:\n",
        "    lines = f.readlines()\n",
        "s1,s2 = list(),list()\n",
        "for line in lines:\n",
        "  a,b,s = line.split('\\t')\n",
        "  s1.append(a)\n",
        "  s2.append(b)\n",
        "\n",
        "avg_sentence_length = get_avg_sentence_length(s1)\n",
        "print('Average sentence length:', avg_sentence_length)\n",
        "plot_sentence_length_variation(s1)"
      ],
      "metadata": {
        "colab": {
          "base_uri": "https://localhost:8080/",
          "height": 490
        },
        "id": "E-u491XsHAZT",
        "outputId": "39279cf9-f133-4445-e742-2731e41236f4"
      },
      "execution_count": null,
      "outputs": [
        {
          "output_type": "stream",
          "name": "stdout",
          "text": [
            "Average sentence length: 32.183211678832116\n"
          ]
        },
        {
          "output_type": "display_data",
          "data": {
            "text/plain": [
              "<Figure size 640x480 with 1 Axes>"
            ],
            "image/png": "[encoded data removed]"
          },
          "metadata": {}
        }
      ]
    },
    {
      "cell_type": "code",
      "source": [
        "count = 0\n",
        "for sentence in s1:\n",
        "    if len(sentence.split()) <= 80:\n",
        "        count += 1\n",
        "print('Number of sentences greater than 80 words:', count)\n",
        "print('Percentage they are covering:',count/len(s1)*100)"
      ],
      "metadata": {
        "colab": {
          "base_uri": "https://localhost:8080/"
        },
        "id": "-bk1gqq7H1ri",
        "outputId": "e19f9bb2-9104-4fa9-ffcb-0ee641339712"
      },
      "execution_count": null,
      "outputs": [
        {
          "output_type": "stream",
          "name": "stdout",
          "text": [
            "Number of sentences greater than 80 words: 1368\n",
            "Percentage they are covering: 99.85401459854015\n"
          ]
        }
      ]
    },
    {
      "cell_type": "code",
      "source": [
        "train_x_1.shape,validation_x_1.shape,test_x_1.shape,test_y.shape"
      ],
      "metadata": {
        "colab": {
          "base_uri": "https://localhost:8080/"
        },
        "id": "3xg8iRkmEt-Y",
        "outputId": "2d6239e6-5feb-45b5-c607-028d849756da"
      },
      "execution_count": null,
      "outputs": [
        {
          "output_type": "execute_result",
          "data": {
            "text/plain": [
              "((1370, 80, 300), (250, 80, 300), (250, 80, 300), (250, 6))"
            ]
          },
          "metadata": {},
          "execution_count": 42
        }
      ]
    },
    {
      "cell_type": "markdown",
      "source": [
        "### Model"
      ],
      "metadata": {
        "id": "S4AfqqS3Jvaa"
      }
    },
    {
      "cell_type": "code",
      "source": [
        "def _lossfunction(y_true,y_pred):\n",
        "  ny_true = y_true[:,1] + 2*y_true[:,2] + 3*y_true[:,3] + 4*y_true[:,4] + 5*y_true[:,5]\n",
        "  ny_pred = y_pred[:,1] + 2*y_pred[:,2] + 3*y_pred[:,3] + 4*y_pred[:,4] + 5*y_pred[:,5]\n",
        "  my_true = K.mean(ny_true)\n",
        "  my_pred = K.mean(ny_pred)\n",
        "  var_true = (ny_true - my_true)**2\n",
        "  var_pred = (ny_pred - my_pred)**2\n",
        "  return -K.sum((ny_true-my_true)*(ny_pred-my_pred),axis=-1) / (K.sqrt(K.sum(var_true,axis=-1)*K.sum(var_pred,axis=-1)))"
      ],
      "metadata": {
        "id": "IGn_S6weFVD6"
      },
      "execution_count": null,
      "outputs": []
    },
    {
      "cell_type": "code",
      "source": [
        "sentence1 = Input(shape=(sentence_length,embedding_size))\n",
        "sentence2 = Input(shape=(sentence_length,embedding_size))\n",
        "cnn_layer = Conv1D(filters = no_of_filters,\n",
        "                    kernel_size = kernel_size,\n",
        "                    activation='relu',\n",
        "                    kernel_initializer=cnn_kernel_initializer)\n",
        "\n",
        "cnn_layer1 = cnn_layer(sentence1)\n",
        "cnn_layer2 = cnn_layer(sentence2)\n",
        "\n",
        "max_pool = MaxPool1D(pool_size=padding_size-kernel_size+1)\n",
        "\n",
        "max_pool1 = max_pool(cnn_layer1)\n",
        "max_pool2 = max_pool(cnn_layer2)\n",
        "flatten = Flatten()\n",
        "\n",
        "flatten1 = flatten(max_pool1)\n",
        "flatten2 = flatten(max_pool2)\n",
        "\n",
        "absDifference = Lambda(lambda X:K.abs(X[0] - X[1]))([flatten1,flatten2])\n",
        "\n",
        "mulDifference = multiply([flatten1,flatten2])\n",
        "\n",
        "allDifference = concatenate([absDifference,mulDifference])\n",
        "\n",
        "Denselayer_1 = Dense(no_of_units_ds1,activation='tanh',kernel_initializer=cnn_kernel_initializer)(allDifference)\n",
        "\n",
        "output = Dense(name='output',units=output_units,activation='softmax',kernel_initializer=cnn_kernel_initializer)(Denselayer_1)\n",
        "\n",
        "model = Model(inputs=[sentence1,sentence2], outputs=output)\n",
        "\n",
        "model.summary()"
      ],
      "metadata": {
        "colab": {
          "base_uri": "https://localhost:8080/"
        },
        "id": "V6DnoYjnLRuc",
        "outputId": "37e10dec-52c9-4da9-a5f9-50ead718c1bd"
      },
      "execution_count": null,
      "outputs": [
        {
          "output_type": "stream",
          "name": "stdout",
          "text": [
            "Model: \"model\"\n",
            "__________________________________________________________________________________________________\n",
            "Layer (type)                    Output Shape         Param #     Connected to                     \n",
            "==================================================================================================\n",
            "input_1 (InputLayer)            [(None, 80, 300)]    0                                            \n",
            "__________________________________________________________________________________________________\n",
            "input_2 (InputLayer)            [(None, 80, 300)]    0                                            \n",
            "__________________________________________________________________________________________________\n",
            "conv1d (Conv1D)                 (None, 80, 300)      90300       input_1[0][0]                    \n",
            "                                                                 input_2[0][0]                    \n",
            "__________________________________________________________________________________________________\n",
            "max_pooling1d (MaxPooling1D)    (None, 1, 300)       0           conv1d[0][0]                     \n",
            "                                                                 conv1d[1][0]                     \n",
            "__________________________________________________________________________________________________\n",
            "flatten (Flatten)               (None, 300)          0           max_pooling1d[0][0]              \n",
            "                                                                 max_pooling1d[1][0]              \n",
            "__________________________________________________________________________________________________\n",
            "lambda (Lambda)                 (None, 300)          0           flatten[0][0]                    \n",
            "                                                                 flatten[1][0]                    \n",
            "__________________________________________________________________________________________________\n",
            "multiply (Multiply)             (None, 300)          0           flatten[0][0]                    \n",
            "                                                                 flatten[1][0]                    \n",
            "__________________________________________________________________________________________________\n",
            "concatenate (Concatenate)       (None, 600)          0           lambda[0][0]                     \n",
            "                                                                 multiply[0][0]                   \n",
            "__________________________________________________________________________________________________\n",
            "dense (Dense)                   (None, 300)          180300      concatenate[0][0]                \n",
            "__________________________________________________________________________________________________\n",
            "output (Dense)                  (None, 6)            1806        dense[0][0]                      \n",
            "==================================================================================================\n",
            "Total params: 272,406\n",
            "Trainable params: 272,406\n",
            "Non-trainable params: 0\n",
            "__________________________________________________________________________________________________\n"
          ]
        }
      ]
    },
    {
      "cell_type": "code",
      "source": [
        "model.compile(loss=_lossfunction, optimizer='Adam')"
      ],
      "metadata": {
        "id": "VeGOWNr-LyB1"
      },
      "execution_count": null,
      "outputs": []
    },
    {
      "cell_type": "code",
      "source": [
        "def eval_model(model):\n",
        "  predictionclasses = list(model.predict([validation_x_1,validation_x_2]))\n",
        "  prediction = np.dot(np.array(predictionclasses),np.arange(6))\n",
        "  goldlabels = validation_data[2]\n",
        "  result=pearsonr(prediction, goldlabels)[0]\n",
        "  print('Validation PCC:',result)\n",
        "  return round(result,4)"
      ],
      "metadata": {
        "id": "BOTxBhopL_A6"
      },
      "execution_count": null,
      "outputs": []
    },
    {
      "cell_type": "code",
      "source": [
        "class Evaluate(Callback):\n",
        "  def __init__(self, task, wfname):\n",
        "    self.task       = task\n",
        "    self.bestresult = 0.0\n",
        "    self.wfname     = wfname\n",
        "  def on_epoch_end(self, epoch, logs={}):\n",
        "    validresult = eval_model(self.task)\n",
        "    if validresult > self.bestresult:\n",
        "      self.bestresult = validresult\n",
        "      self.task.save(self.wfname)"
      ],
      "metadata": {
        "id": "R0qb-ZVDNGpP"
      },
      "execution_count": null,
      "outputs": []
    },
    {
      "cell_type": "code",
      "source": [
        "early_stopping = EarlyStopping(\n",
        "        monitor=\"val_loss\",\n",
        "        patience=4,\n",
        "        verbose=1,\n",
        "        mode=\"min\",\n",
        "        restore_best_weights=True, \n",
        "     )"
      ],
      "metadata": {
        "id": "VsvbHxE1Nq1N"
      },
      "execution_count": null,
      "outputs": []
    },
    {
      "cell_type": "code",
      "source": [
        "history = model.fit(x=[train_x_1,train_x_2],\n",
        "                    y=train_y,\n",
        "                    callbacks=[Evaluate(model,'/content/drive/MyDrive/Colab Notebooks/Working/spanish_best_model_cnn.h5')],\n",
        "                    batch_size=batch_size,\n",
        "                    epochs = 60,\n",
        "                    verbose = 1)"
      ],
      "metadata": {
        "colab": {
          "base_uri": "https://localhost:8080/"
        },
        "id": "94u93x2NNwsd",
        "outputId": "bd0a3786-2eb5-4cc9-e25d-dea78f71dcde"
      },
      "execution_count": null,
      "outputs": [
        {
          "output_type": "stream",
          "name": "stdout",
          "text": [
            "Epoch 1/60\n",
            "5/5 [==============================] - 6s 398ms/step - loss: -0.6083\n",
            "Validation PCC: 0.5829963926287924\n",
            "Epoch 2/60\n"
          ]
        },
        {
          "output_type": "stream",
          "name": "stderr",
          "text": [
            "/usr/local/lib/python3.9/dist-packages/tensorflow/python/keras/utils/generic_utils.py:494: CustomMaskWarning: Custom mask layers require a config and must override get_config. When loading, the custom mask layer must be passed to the custom_objects argument.\n",
            "  warnings.warn('Custom mask layers require a config and must override '\n"
          ]
        },
        {
          "output_type": "stream",
          "name": "stdout",
          "text": [
            "5/5 [==============================] - 2s 374ms/step - loss: -0.7856\n",
            "Validation PCC: 0.6008721721470021\n",
            "Epoch 3/60\n",
            "5/5 [==============================] - 2s 365ms/step - loss: -0.8264\n",
            "Validation PCC: 0.607601777420377\n",
            "Epoch 4/60\n",
            "5/5 [==============================] - 3s 674ms/step - loss: -0.8581\n",
            "Validation PCC: 0.611293472302724\n",
            "Epoch 5/60\n",
            "5/5 [==============================] - 2s 436ms/step - loss: -0.8874\n",
            "Validation PCC: 0.612118974716623\n",
            "Epoch 6/60\n",
            "5/5 [==============================] - 2s 362ms/step - loss: -0.9113\n",
            "Validation PCC: 0.6098197639359383\n",
            "Epoch 7/60\n",
            "5/5 [==============================] - 2s 383ms/step - loss: -0.9330\n",
            "Validation PCC: 0.6054155774932113\n",
            "Epoch 8/60\n",
            "5/5 [==============================] - 2s 390ms/step - loss: -0.9488\n",
            "Validation PCC: 0.6001939290383452\n",
            "Epoch 9/60\n",
            "5/5 [==============================] - 2s 410ms/step - loss: -0.9616\n",
            "Validation PCC: 0.5940318998642007\n",
            "Epoch 10/60\n",
            "5/5 [==============================] - 3s 636ms/step - loss: -0.9719\n",
            "Validation PCC: 0.5873536206012208\n",
            "Epoch 11/60\n",
            "5/5 [==============================] - 2s 367ms/step - loss: -0.9788\n",
            "Validation PCC: 0.5812142418117622\n",
            "Epoch 12/60\n",
            "5/5 [==============================] - 2s 369ms/step - loss: -0.9842\n",
            "Validation PCC: 0.5767568041700473\n",
            "Epoch 13/60\n",
            "5/5 [==============================] - 2s 376ms/step - loss: -0.9880\n",
            "Validation PCC: 0.5736070066617681\n",
            "Epoch 14/60\n",
            "5/5 [==============================] - 2s 372ms/step - loss: -0.9905\n",
            "Validation PCC: 0.5712626845686337\n",
            "Epoch 15/60\n",
            "5/5 [==============================] - 2s 445ms/step - loss: -0.9923\n",
            "Validation PCC: 0.569410438276992\n",
            "Epoch 16/60\n",
            "5/5 [==============================] - 3s 669ms/step - loss: -0.9935\n",
            "Validation PCC: 0.5658559192868736\n",
            "Epoch 17/60\n",
            "5/5 [==============================] - 2s 375ms/step - loss: -0.9944\n",
            "Validation PCC: 0.5636221462459107\n",
            "Epoch 18/60\n",
            "5/5 [==============================] - 2s 373ms/step - loss: -0.9949\n",
            "Validation PCC: 0.5615738430959639\n",
            "Epoch 19/60\n",
            "5/5 [==============================] - 2s 370ms/step - loss: -0.9952\n",
            "Validation PCC: 0.5601679005776915\n",
            "Epoch 20/60\n",
            "5/5 [==============================] - 2s 373ms/step - loss: -0.9956\n",
            "Validation PCC: 0.5600020508053306\n",
            "Epoch 21/60\n",
            "5/5 [==============================] - 2s 481ms/step - loss: -0.9957\n",
            "Validation PCC: 0.5596133934580854\n",
            "Epoch 22/60\n",
            "5/5 [==============================] - 4s 792ms/step - loss: -0.9958\n",
            "Validation PCC: 0.5577268596609231\n",
            "Epoch 23/60\n",
            "5/5 [==============================] - 4s 838ms/step - loss: -0.9961\n",
            "Validation PCC: 0.557240153227762\n",
            "Epoch 24/60\n",
            "5/5 [==============================] - 2s 377ms/step - loss: -0.9963\n",
            "Validation PCC: 0.557484362935504\n",
            "Epoch 25/60\n",
            "5/5 [==============================] - 2s 372ms/step - loss: -0.9963\n",
            "Validation PCC: 0.5568846938933375\n",
            "Epoch 26/60\n",
            "5/5 [==============================] - 3s 675ms/step - loss: -0.9964\n",
            "Validation PCC: 0.5564204236534983\n",
            "Epoch 27/60\n",
            "5/5 [==============================] - 2s 377ms/step - loss: -0.9963\n",
            "Validation PCC: 0.5560390926503092\n",
            "Epoch 28/60\n",
            "5/5 [==============================] - 2s 362ms/step - loss: -0.9963\n",
            "Validation PCC: 0.5565102008026663\n",
            "Epoch 29/60\n",
            "5/5 [==============================] - 2s 366ms/step - loss: -0.9964\n",
            "Validation PCC: 0.5566023695282156\n",
            "Epoch 30/60\n",
            "5/5 [==============================] - 2s 361ms/step - loss: -0.9963\n",
            "Validation PCC: 0.5559708993223529\n",
            "Epoch 31/60\n",
            "5/5 [==============================] - 2s 363ms/step - loss: -0.9965\n",
            "Validation PCC: 0.555584653730608\n",
            "Epoch 32/60\n",
            "5/5 [==============================] - 3s 667ms/step - loss: -0.9965\n",
            "Validation PCC: 0.5555407529806832\n",
            "Epoch 33/60\n",
            "5/5 [==============================] - 2s 385ms/step - loss: -0.9966\n",
            "Validation PCC: 0.5543877083299669\n",
            "Epoch 34/60\n",
            "5/5 [==============================] - 2s 371ms/step - loss: -0.9965\n",
            "Validation PCC: 0.5559769486796275\n",
            "Epoch 35/60\n",
            "5/5 [==============================] - 2s 365ms/step - loss: -0.9967\n",
            "Validation PCC: 0.554812694595304\n",
            "Epoch 36/60\n",
            "5/5 [==============================] - 2s 366ms/step - loss: -0.9967\n",
            "Validation PCC: 0.5541953479920656\n",
            "Epoch 37/60\n",
            "5/5 [==============================] - 2s 356ms/step - loss: -0.9966\n",
            "Validation PCC: 0.553935034880522\n",
            "Epoch 38/60\n",
            "5/5 [==============================] - 3s 652ms/step - loss: -0.9967\n",
            "Validation PCC: 0.5546458926965796\n",
            "Epoch 39/60\n",
            "5/5 [==============================] - 2s 362ms/step - loss: -0.9966\n",
            "Validation PCC: 0.5545345222673914\n",
            "Epoch 40/60\n",
            "5/5 [==============================] - 2s 360ms/step - loss: -0.9966\n",
            "Validation PCC: 0.5540772255579284\n",
            "Epoch 41/60\n",
            "5/5 [==============================] - 2s 374ms/step - loss: -0.9966\n",
            "Validation PCC: 0.553280831797364\n",
            "Epoch 42/60\n",
            "5/5 [==============================] - 2s 361ms/step - loss: -0.9966\n",
            "Validation PCC: 0.5532661815257263\n",
            "Epoch 43/60\n",
            "5/5 [==============================] - 2s 366ms/step - loss: -0.9965\n",
            "Validation PCC: 0.5534501092778955\n",
            "Epoch 44/60\n",
            "5/5 [==============================] - 4s 682ms/step - loss: -0.9965\n",
            "Validation PCC: 0.5531106237700188\n",
            "Epoch 45/60\n",
            "5/5 [==============================] - 2s 368ms/step - loss: -0.9966\n",
            "Validation PCC: 0.5549687437446582\n",
            "Epoch 46/60\n",
            "5/5 [==============================] - 2s 361ms/step - loss: -0.9966\n",
            "Validation PCC: 0.5550815227973365\n",
            "Epoch 47/60\n",
            "5/5 [==============================] - 2s 380ms/step - loss: -0.9967\n",
            "Validation PCC: 0.5532313277933022\n",
            "Epoch 48/60\n",
            "5/5 [==============================] - 2s 369ms/step - loss: -0.9968\n",
            "Validation PCC: 0.5526970163418766\n",
            "Epoch 49/60\n",
            "5/5 [==============================] - 2s 411ms/step - loss: -0.9967\n",
            "Validation PCC: 0.5532340052685094\n",
            "Epoch 50/60\n",
            "5/5 [==============================] - 3s 653ms/step - loss: -0.9967\n",
            "Validation PCC: 0.5535219343021417\n",
            "Epoch 51/60\n",
            "5/5 [==============================] - 2s 388ms/step - loss: -0.9967\n",
            "Validation PCC: 0.5542504301474891\n",
            "Epoch 52/60\n",
            "5/5 [==============================] - 2s 371ms/step - loss: -0.9967\n",
            "Validation PCC: 0.5531536415756104\n",
            "Epoch 53/60\n",
            "5/5 [==============================] - 2s 362ms/step - loss: -0.9968\n",
            "Validation PCC: 0.5526794598848179\n",
            "Epoch 54/60\n",
            "5/5 [==============================] - 2s 368ms/step - loss: -0.9967\n",
            "Validation PCC: 0.5539025719645009\n",
            "Epoch 55/60\n",
            "5/5 [==============================] - 2s 408ms/step - loss: -0.9966\n",
            "Validation PCC: 0.5543897175946403\n",
            "Epoch 56/60\n",
            "5/5 [==============================] - 3s 663ms/step - loss: -0.9968\n",
            "Validation PCC: 0.5547632741609788\n",
            "Epoch 57/60\n",
            "5/5 [==============================] - 2s 369ms/step - loss: -0.9966\n",
            "Validation PCC: 0.554374015876401\n",
            "Epoch 58/60\n",
            "5/5 [==============================] - 2s 364ms/step - loss: -0.9967\n",
            "Validation PCC: 0.55445579383962\n",
            "Epoch 59/60\n",
            "5/5 [==============================] - 2s 373ms/step - loss: -0.9969\n",
            "Validation PCC: 0.5538428928856771\n",
            "Epoch 60/60\n",
            "5/5 [==============================] - 2s 359ms/step - loss: -0.9969\n",
            "Validation PCC: 0.5536017628564142\n"
          ]
        }
      ]
    },
    {
      "cell_type": "code",
      "source": [
        "loaded_model = load_model('/content/drive/MyDrive/Colab Notebooks/Working/spanish_best_model_cnn.h5',custom_objects={'_lossfunction': _lossfunction})"
      ],
      "metadata": {
        "id": "S5nsab8aRJTJ"
      },
      "execution_count": null,
      "outputs": []
    },
    {
      "cell_type": "code",
      "source": [
        "predictionclasses = list(model.predict([test_x_1,test_x_2]))\n",
        "prediction = np.dot(np.array(predictionclasses),np.arange(6))\n",
        "goldlabels = test_data[2]\n",
        "pearsonr(np.round(prediction,4), goldlabels)[0]"
      ],
      "metadata": {
        "colab": {
          "base_uri": "https://localhost:8080/"
        },
        "id": "wP_K74rUSvaw",
        "outputId": "ca40319e-439f-48d9-be82-8648ca7b3997"
      },
      "execution_count": null,
      "outputs": [
        {
          "output_type": "execute_result",
          "data": {
            "text/plain": [
              "0.7623256756974937"
            ]
          },
          "metadata": {},
          "execution_count": 50
        }
      ]
    },
    {
      "cell_type": "code",
      "source": [
        "type(test_x_1),type(test_x_1[0]),type(test_x_1[0][0]),type(test_x_1[0][0][0])"
      ],
      "metadata": {
        "colab": {
          "base_uri": "https://localhost:8080/"
        },
        "id": "s-ssSSX_ogaa",
        "outputId": "d82479fa-1c95-48fb-ceec-65d02f45857a"
      },
      "execution_count": null,
      "outputs": [
        {
          "output_type": "execute_result",
          "data": {
            "text/plain": [
              "(numpy.ndarray, numpy.ndarray, numpy.ndarray, numpy.float64)"
            ]
          },
          "metadata": {},
          "execution_count": 61
        }
      ]
    },
    {
      "cell_type": "code",
      "source": [
        "predictionclasses = list(loaded_model.predict([test_x_1,test_x_2]))\n",
        "prediction = np.dot(np.array(predictionclasses),np.arange(6))\n",
        "goldlabels = test_data[2]\n",
        "pearsonr(np.round(prediction,4), goldlabels)[0]"
      ],
      "metadata": {
        "colab": {
          "base_uri": "https://localhost:8080/"
        },
        "id": "7hoIM7aIeyLH",
        "outputId": "5308b35e-1210-4ba7-8aea-023372128b7b"
      },
      "execution_count": null,
      "outputs": [
        {
          "output_type": "stream",
          "name": "stdout",
          "text": [
            "8/8 [==============================] - 1s 36ms/step\n"
          ]
        },
        {
          "output_type": "execute_result",
          "data": {
            "text/plain": [
              "0.77172539365058"
            ]
          },
          "metadata": {},
          "execution_count": 52
        }
      ]
    }
  ]
}