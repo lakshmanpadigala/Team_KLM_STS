{
  "nbformat": 4,
  "nbformat_minor": 0,
  "metadata": {
    "colab": {
      "provenance": []
    },
    "kernelspec": {
      "name": "python3",
      "display_name": "Python 3"
    },
    "language_info": {
      "name": "python"
    }
  },
  "cells": [
    {
      "cell_type": "code",
      "execution_count": 1,
      "metadata": {
        "id": "8R-Qizu88ef4",
        "colab": {
          "base_uri": "https://localhost:8080/"
        },
        "outputId": "f86afceb-58e1-4576-fdfe-3ccdb5346e53"
      },
      "outputs": [
        {
          "output_type": "stream",
          "name": "stderr",
          "text": [
            "[nltk_data] Downloading package punkt to /root/nltk_data...\n",
            "[nltk_data]   Unzipping tokenizers/punkt.zip.\n"
          ]
        },
        {
          "output_type": "execute_result",
          "data": {
            "text/plain": [
              "True"
            ]
          },
          "metadata": {},
          "execution_count": 1
        }
      ],
      "source": [
        "from nltk.tokenize import RegexpTokenizer\n",
        "import numpy as np\n",
        "import re\n",
        "from keras.utils import pad_sequences\n",
        "from keras.callbacks import EarlyStopping\n",
        "import random,copy,string\n",
        "import matplotlib.pyplot as plt\n",
        "import nltk\n",
        "import multiprocessing as mp\n",
        "import random,copy,string\n",
        "from scipy.stats import pearsonr\n",
        "from tensorflow.python.keras import backend as K\n",
        "from tensorflow.python.keras.models import Model\n",
        "from tensorflow.python.keras.layers import Input, Conv1D,  MaxPool1D, Flatten\n",
        "from tensorflow.python.keras.layers import Lambda, multiply, concatenate, Dense\n",
        "from tensorflow.python.keras.callbacks import Callback\n",
        "# from keras.optimizers import Adam\n",
        "from keras.models import load_model\n",
        "import tensorflow as tf\n",
        "from nltk.tokenize import TreebankWordTokenizer\n",
        "nltk.download('punkt')"
      ]
    },
    {
      "cell_type": "code",
      "source": [
        "from google.colab import drive\n",
        "drive.mount('/content/drive')"
      ],
      "metadata": {
        "colab": {
          "base_uri": "https://localhost:8080/"
        },
        "id": "T8KsBjT99H5c",
        "outputId": "b7d61ac2-c0bd-479b-91af-ec94e5619bc4"
      },
      "execution_count": 2,
      "outputs": [
        {
          "output_type": "stream",
          "name": "stdout",
          "text": [
            "Mounted at /content/drive\n"
          ]
        }
      ]
    },
    {
      "cell_type": "code",
      "source": [
        "# with open('/content/drive/MyDrive/Colab Notebooks/Working/es_final/es_test_pairs.txt', 'r') as f1, open('/content/drive/MyDrive/Colab Notebooks/Working/es_final/es_test_y.txt', 'r') as f2, open('/content/drive/MyDrive/Colab Notebooks/Working/es_final/es_test.txt', 'w') as fout:\n",
        "#     for line1, line2 in zip(f1, f2):\n",
        "#         line2 = line2.strip()\n",
        "#         # line2 = (float(line2) / 4 )*5\n",
        "#         # print(line2)\n",
        "#         combined_line = line1.strip() + '\\t' + line2 + '\\n'\n",
        "#         fout.write(combined_line)"
      ],
      "metadata": {
        "id": "kUW_oDFj2yHy"
      },
      "execution_count": null,
      "outputs": []
    },
    {
      "cell_type": "markdown",
      "source": [
        "###HYPER - PARAMETERS"
      ],
      "metadata": {
        "id": "QUiFKm508zbH"
      }
    },
    {
      "cell_type": "code",
      "source": [
        "sentence_length, padding_size = 80,80\n",
        "embedding_size = 300\n",
        "no_of_filters = 300\n",
        "kernel_size = 1\n",
        "cnn_activation_function = 'relu'\n",
        "cnn_kernel_initializer = 'he_uniform'\n",
        "no_of_units_ds1 = 300\n",
        "output_units = 6\n",
        "optimizer = 'adam'\n",
        "batch_size = 300\n",
        "num_batches = 2"
      ],
      "metadata": {
        "id": "SWXQS0bN8vmJ"
      },
      "execution_count": 3,
      "outputs": []
    },
    {
      "cell_type": "markdown",
      "source": [
        "### Glove embedding"
      ],
      "metadata": {
        "id": "kIfvLRNg9TJd"
      }
    },
    {
      "cell_type": "code",
      "source": [
        "word_to_index = dict()\n",
        "index_to_word = dict()\n",
        "index = 1\n",
        "embed_dict = {}\n",
        "embed_dict['oov'] = np.zeros(300)\n",
        "\n",
        "with open('/content/drive/MyDrive/Colab Notebooks/Working/SBW-vectors-300-min5.txt','r') as f:  #/content/drive/MyDrive/NLP/glove.840B.300d.txt /content/drive/MyDrive/smai/glove/glove.6B.300d.txt\n",
        "  for line in f:\n",
        "    values = line.split(' ')\n",
        "    word = values[0]\n",
        "    vector = np.asarray(values[1:],'float32')\n",
        "    embed_dict[word]=vector\n",
        "    word_to_index[word] = index\n",
        "    index_to_word[index] = word\n",
        "    index+=1\n",
        "\n",
        "word_to_index['oov'] = 0\n",
        "index_to_word[0] = 'oov'"
      ],
      "metadata": {
        "id": "ycRygVo-86UE"
      },
      "execution_count": 4,
      "outputs": []
    },
    {
      "cell_type": "markdown",
      "source": [
        "### Data Pre-Processing "
      ],
      "metadata": {
        "id": "o_jEwNJx_uOh"
      }
    },
    {
      "cell_type": "code",
      "source": [
        "def generate_embedding_matrix(sentence):\n",
        "\n",
        "    sentence = re.sub('[^a-z0-9áéíóúüñ]', ' ', sentence.lower())\n",
        "\n",
        "    # Tokenize the sentence and do the padding\n",
        "    tokens = sentence.split()\n",
        "    \n",
        "    word_to_vec = []\n",
        "    # Loop over the tokens and generate their embeddings\n",
        "    for i, token in enumerate(tokens):\n",
        "        if token in word_to_index:\n",
        "            word_to_vec.append(word_to_index[token])\n",
        "        else:\n",
        "            word_to_vec.append(word_to_index['oov'])\n",
        "\n",
        "    # print(word_to_vec)\n",
        "\n",
        "    word_to_vec = np.array(word_to_vec)\n",
        "    word_to_vec=word_to_vec.reshape(1,word_to_vec.shape[0])\n",
        "    word_to_vec = pad_sequences(word_to_vec, maxlen=sentence_length, truncating='post', padding='post')\n",
        "\n",
        "    # Initialize an empty matrix with shape (sentence_length, 300)\n",
        "    embedding_matrix = np.zeros((sentence_length, 300))\n",
        "    \n",
        "    # Loop over the tokens and generate their embeddings\n",
        "    for i, token in enumerate(word_to_vec[0]):\n",
        "        embedding_matrix[i, :] = embed_dict[index_to_word[token]]\n",
        "    return embedding_matrix"
      ],
      "metadata": {
        "id": "naKU8eRX_sgZ"
      },
      "execution_count": 5,
      "outputs": []
    },
    {
      "cell_type": "code",
      "source": [
        "def get_input(filename):\n",
        "  with open(filename) as f:\n",
        "    lines = [line.rstrip('\\n') for line in f]\n",
        "  s1_embedding_matrix_list,s2_embedding_matrix_list,actual_scores = list(),list(),list()\n",
        "  for line in lines:\n",
        "    # _,_,_,_,score,s1,s2 = line.split('\\t')[:7]\n",
        "    s1,s2,score = line.split('\\t')\n",
        "    s1_embedding_matrix_list.append(generate_embedding_matrix(s1))\n",
        "    s2_embedding_matrix_list.append(generate_embedding_matrix(s2))\n",
        "    actual_scores.append(eval(score))\n",
        "\n",
        "  s1_embedding_matrix_list = np.array(s1_embedding_matrix_list)\n",
        "  s2_embedding_matrix_list = np.array(s2_embedding_matrix_list)\n",
        "  actual_scores = np.array(actual_scores)\n",
        "  return s1_embedding_matrix_list,s2_embedding_matrix_list,actual_scores"
      ],
      "metadata": {
        "id": "R95XpJG3DYId"
      },
      "execution_count": 6,
      "outputs": []
    },
    {
      "cell_type": "code",
      "source": [
        "def generate_one_hot_lists(arr):\n",
        "    # Compute the fractional parts of the array elements\n",
        "    fracs = np.mod(arr, 1)\n",
        "    # Compute the distances from the nearest integers\n",
        "    cfracs = 1 - fracs\n",
        "    actual =  np.int64(arr - fracs)\n",
        "    dists = np.minimum(fracs, 1 - fracs)\n",
        "\n",
        "    # Compute the one-hot encoding of the distances\n",
        "    one_hots = np.zeros((arr.shape[0], 6))\n",
        "    for i in range(len(arr)):\n",
        "      temp = np.zeros(6,)\n",
        "      if fracs[i] == 0.0:\n",
        "        temp[actual[i]] = 1.0\n",
        "      else:\n",
        "        temp[actual[i]] = cfracs[i]\n",
        "        temp[actual[i]+1] = fracs[i] \n",
        "      one_hots[i,:] = temp \n",
        "    return one_hots"
      ],
      "metadata": {
        "id": "pJSgC2TBDhH5"
      },
      "execution_count": 7,
      "outputs": []
    },
    {
      "cell_type": "code",
      "source": [
        "train = '/content/drive/MyDrive/Colab Notebooks/Working/es_final/es_train.txt'\n",
        "validation ='/content/drive/MyDrive/Colab Notebooks/Working/es_final/es_val.txt'\n",
        "test = '/content/drive/MyDrive/Colab Notebooks/Working/es_final/es_test.txt'\n",
        "\n",
        "train_data, validation_data,  test_data = get_input(train), get_input(validation),  get_input(test)\n",
        "\n",
        "train_x_1,      train_x_2,      train_y       = train_data[0],      train_data[1],      generate_one_hot_lists(train_data[2]) \n",
        "validation_x_1, validation_x_2, validation_y  = validation_data[0], validation_data[1], generate_one_hot_lists(validation_data[2]) \n",
        "test_x_1,       test_x_2,       test_y        = test_data[0],       test_data[1],       generate_one_hot_lists(test_data[2]) "
      ],
      "metadata": {
        "id": "7SOEGnWiD1MH"
      },
      "execution_count": 8,
      "outputs": []
    },
    {
      "cell_type": "code",
      "source": [
        "#Analyise Dataset..\n",
        "def get_avg_sentence_length(sentences):\n",
        "    # Get the total number of words in all sentences\n",
        "    total_words = sum([len(sentence.split()) for sentence in sentences])\n",
        "\n",
        "    # Calculate the average sentence length\n",
        "    avg_sentence_length = total_words / len(sentences)\n",
        "\n",
        "    return avg_sentence_length\n",
        "\n",
        "def plot_sentence_length_variation(sentences):\n",
        "    # Get the length of each sentence\n",
        "    sentence_lengths = [len(sentence.split()) for sentence in sentences]\n",
        "\n",
        "    # Plot the sentence length distribution\n",
        "    plt.hist(sentence_lengths, bins=range(0, max(sentence_lengths) + 1, 5))\n",
        "    plt.title('Sentence Length Distribution')\n",
        "    plt.xlabel('Sentence Length')\n",
        "    plt.ylabel('Number of Sentences')\n",
        "    plt.show()\n"
      ],
      "metadata": {
        "id": "6MSMPiXGF1W3"
      },
      "execution_count": 9,
      "outputs": []
    },
    {
      "cell_type": "code",
      "source": [
        "with open(train) as f:\n",
        "    lines = f.readlines()\n",
        "s1,s2 = list(),list()\n",
        "for line in lines:\n",
        "  a,b,s = line.split('\\t')\n",
        "  s1.append(a)\n",
        "  s2.append(b)\n",
        "\n",
        "avg_sentence_length = get_avg_sentence_length(s1)\n",
        "print('Average sentence length:', avg_sentence_length)\n",
        "plot_sentence_length_variation(s1)"
      ],
      "metadata": {
        "colab": {
          "base_uri": "https://localhost:8080/",
          "height": 490
        },
        "id": "E-u491XsHAZT",
        "outputId": "7a65d046-a3aa-48fe-e2ae-6e713cbe594c"
      },
      "execution_count": 10,
      "outputs": [
        {
          "output_type": "stream",
          "name": "stdout",
          "text": [
            "Average sentence length: 32.183211678832116\n"
          ]
        },
        {
          "output_type": "display_data",
          "data": {
            "text/plain": [
              "<Figure size 640x480 with 1 Axes>"
            ],
            "image/png": "[encoded data removed]"
          },
          "metadata": {}
        }
      ]
    },
    {
      "cell_type": "code",
      "source": [
        "count = 0\n",
        "for sentence in s1:\n",
        "    if len(sentence.split()) <= 80:\n",
        "        count += 1\n",
        "print('Number of sentences greater than 80 words:', count)\n",
        "print('Percentage they are covering:',count/len(s1)*100)"
      ],
      "metadata": {
        "colab": {
          "base_uri": "https://localhost:8080/"
        },
        "id": "-bk1gqq7H1ri",
        "outputId": "5a419f09-e57b-4eeb-e643-a34730e82e5f"
      },
      "execution_count": 11,
      "outputs": [
        {
          "output_type": "stream",
          "name": "stdout",
          "text": [
            "Number of sentences greater than 80 words: 1368\n",
            "Percentage they are covering: 99.85401459854015\n"
          ]
        }
      ]
    },
    {
      "cell_type": "code",
      "source": [
        "train_x_1.shape,validation_x_1.shape,test_x_1.shape,test_y.shape"
      ],
      "metadata": {
        "colab": {
          "base_uri": "https://localhost:8080/"
        },
        "id": "3xg8iRkmEt-Y",
        "outputId": "8762cb0e-5f4a-4676-bb00-074aaf3e3947"
      },
      "execution_count": 12,
      "outputs": [
        {
          "output_type": "execute_result",
          "data": {
            "text/plain": [
              "((1370, 80, 300), (250, 80, 300), (250, 80, 300), (250, 6))"
            ]
          },
          "metadata": {},
          "execution_count": 12
        }
      ]
    },
    {
      "cell_type": "markdown",
      "source": [
        "### Model"
      ],
      "metadata": {
        "id": "S4AfqqS3Jvaa"
      }
    },
    {
      "cell_type": "code",
      "source": [
        "def _lossfunction(y_true,y_pred):\n",
        "  ny_true = y_true[:,1] + 2*y_true[:,2] + 3*y_true[:,3] + 4*y_true[:,4] + 5*y_true[:,5]\n",
        "  ny_pred = y_pred[:,1] + 2*y_pred[:,2] + 3*y_pred[:,3] + 4*y_pred[:,4] + 5*y_pred[:,5]\n",
        "  my_true = K.mean(ny_true)\n",
        "  my_pred = K.mean(ny_pred)\n",
        "  var_true = (ny_true - my_true)**2\n",
        "  var_pred = (ny_pred - my_pred)**2\n",
        "  return -K.sum((ny_true-my_true)*(ny_pred-my_pred),axis=-1) / (K.sqrt(K.sum(var_true,axis=-1)*K.sum(var_pred,axis=-1)))"
      ],
      "metadata": {
        "id": "IGn_S6weFVD6"
      },
      "execution_count": 13,
      "outputs": []
    },
    {
      "cell_type": "code",
      "source": [
        "sentence1 = Input(shape=(sentence_length,embedding_size))\n",
        "sentence2 = Input(shape=(sentence_length,embedding_size))\n",
        "cnn_layer = Conv1D(filters = no_of_filters,\n",
        "                    kernel_size = kernel_size,\n",
        "                    activation='relu',\n",
        "                    kernel_initializer=cnn_kernel_initializer)\n",
        "\n",
        "cnn_layer1 = cnn_layer(sentence1)\n",
        "cnn_layer2 = cnn_layer(sentence2)\n",
        "\n",
        "max_pool = MaxPool1D(pool_size=padding_size-kernel_size+1)\n",
        "\n",
        "max_pool1 = max_pool(cnn_layer1)\n",
        "max_pool2 = max_pool(cnn_layer2)\n",
        "flatten = Flatten()\n",
        "\n",
        "flatten1 = flatten(max_pool1)\n",
        "flatten2 = flatten(max_pool2)\n",
        "\n",
        "absDifference = Lambda(lambda X:K.abs(X[0] - X[1]))([flatten1,flatten2])\n",
        "\n",
        "mulDifference = multiply([flatten1,flatten2])\n",
        "\n",
        "allDifference = concatenate([absDifference,mulDifference])\n",
        "\n",
        "Denselayer_1 = Dense(no_of_units_ds1,activation='tanh',kernel_initializer=cnn_kernel_initializer)(allDifference)\n",
        "\n",
        "output = Dense(name='output',units=output_units,activation='softmax',kernel_initializer=cnn_kernel_initializer)(Denselayer_1)\n",
        "\n",
        "model = Model(inputs=[sentence1,sentence2], outputs=output)\n",
        "\n",
        "model.summary()"
      ],
      "metadata": {
        "colab": {
          "base_uri": "https://localhost:8080/"
        },
        "id": "V6DnoYjnLRuc",
        "outputId": "ee8bf0ac-abd9-45a8-e4fc-32739eafde81"
      },
      "execution_count": 14,
      "outputs": [
        {
          "output_type": "stream",
          "name": "stdout",
          "text": [
            "Model: \"model\"\n",
            "__________________________________________________________________________________________________\n",
            "Layer (type)                    Output Shape         Param #     Connected to                     \n",
            "==================================================================================================\n",
            "input_1 (InputLayer)            [(None, 80, 300)]    0                                            \n",
            "__________________________________________________________________________________________________\n",
            "input_2 (InputLayer)            [(None, 80, 300)]    0                                            \n",
            "__________________________________________________________________________________________________\n",
            "conv1d (Conv1D)                 (None, 80, 300)      90300       input_1[0][0]                    \n",
            "                                                                 input_2[0][0]                    \n",
            "__________________________________________________________________________________________________\n",
            "max_pooling1d (MaxPooling1D)    (None, 1, 300)       0           conv1d[0][0]                     \n",
            "                                                                 conv1d[1][0]                     \n",
            "__________________________________________________________________________________________________\n",
            "flatten (Flatten)               (None, 300)          0           max_pooling1d[0][0]              \n",
            "                                                                 max_pooling1d[1][0]              \n",
            "__________________________________________________________________________________________________\n",
            "lambda (Lambda)                 (None, 300)          0           flatten[0][0]                    \n",
            "                                                                 flatten[1][0]                    \n",
            "__________________________________________________________________________________________________\n",
            "multiply (Multiply)             (None, 300)          0           flatten[0][0]                    \n",
            "                                                                 flatten[1][0]                    \n",
            "__________________________________________________________________________________________________\n",
            "concatenate (Concatenate)       (None, 600)          0           lambda[0][0]                     \n",
            "                                                                 multiply[0][0]                   \n",
            "__________________________________________________________________________________________________\n",
            "dense (Dense)                   (None, 300)          180300      concatenate[0][0]                \n",
            "__________________________________________________________________________________________________\n",
            "output (Dense)                  (None, 6)            1806        dense[0][0]                      \n",
            "==================================================================================================\n",
            "Total params: 272,406\n",
            "Trainable params: 272,406\n",
            "Non-trainable params: 0\n",
            "__________________________________________________________________________________________________\n"
          ]
        }
      ]
    },
    {
      "cell_type": "code",
      "source": [
        "model.compile(loss=_lossfunction, optimizer='Adam')"
      ],
      "metadata": {
        "id": "VeGOWNr-LyB1"
      },
      "execution_count": 15,
      "outputs": []
    },
    {
      "cell_type": "code",
      "source": [
        "def eval_model(model):\n",
        "  predictionclasses = list(model.predict([validation_x_1,validation_x_2]))\n",
        "  prediction = np.dot(np.array(predictionclasses),np.arange(6))\n",
        "  goldlabels = validation_data[2]\n",
        "  result=pearsonr(prediction, goldlabels)[0]\n",
        "  print('Validation PCC:',result)\n",
        "  return round(result,4)"
      ],
      "metadata": {
        "id": "BOTxBhopL_A6"
      },
      "execution_count": 16,
      "outputs": []
    },
    {
      "cell_type": "code",
      "source": [
        "class Evaluate(Callback):\n",
        "  def __init__(self, task, wfname):\n",
        "    self.task       = task\n",
        "    self.bestresult = 0.0\n",
        "    self.wfname     = wfname\n",
        "  def on_epoch_end(self, epoch, logs={}):\n",
        "    validresult = eval_model(self.task)\n",
        "    if validresult > self.bestresult:\n",
        "      self.bestresult = validresult\n",
        "      self.task.save(self.wfname)"
      ],
      "metadata": {
        "id": "R0qb-ZVDNGpP"
      },
      "execution_count": 17,
      "outputs": []
    },
    {
      "cell_type": "code",
      "source": [
        "early_stopping = EarlyStopping(\n",
        "        monitor=\"val_loss\",\n",
        "        patience=4,\n",
        "        verbose=1,\n",
        "        mode=\"min\",\n",
        "        restore_best_weights=True, \n",
        "     )"
      ],
      "metadata": {
        "id": "VsvbHxE1Nq1N"
      },
      "execution_count": 18,
      "outputs": []
    },
    {
      "cell_type": "code",
      "source": [
        "history = model.fit(x=[train_x_1,train_x_2],\n",
        "                    y=train_y,\n",
        "                    callbacks=[Evaluate(model,'/content/drive/MyDrive/Colab Notebooks/Working/spanish_best_model_cnn.h5')],\n",
        "                    batch_size=batch_size,\n",
        "                    epochs = 60,\n",
        "                    verbose = 1)"
      ],
      "metadata": {
        "colab": {
          "base_uri": "https://localhost:8080/"
        },
        "id": "94u93x2NNwsd",
        "outputId": "c5dfd1a1-8757-4b9c-ff90-90fd1938107d"
      },
      "execution_count": 19,
      "outputs": [
        {
          "output_type": "stream",
          "name": "stdout",
          "text": [
            "Epoch 1/60\n",
            "5/5 [==============================] - 4s 399ms/step - loss: -0.5449\n",
            "Validation PCC: 0.5880058886764661\n"
          ]
        },
        {
          "output_type": "stream",
          "name": "stderr",
          "text": [
            "/usr/local/lib/python3.10/dist-packages/tensorflow/python/keras/utils/generic_utils.py:494: CustomMaskWarning: Custom mask layers require a config and must override get_config. When loading, the custom mask layer must be passed to the custom_objects argument.\n",
            "  warnings.warn('Custom mask layers require a config and must override '\n"
          ]
        },
        {
          "output_type": "stream",
          "name": "stdout",
          "text": [
            "Epoch 2/60\n",
            "5/5 [==============================] - 2s 390ms/step - loss: -0.7883\n",
            "Validation PCC: 0.6009383692321308\n",
            "Epoch 3/60\n",
            "5/5 [==============================] - 3s 666ms/step - loss: -0.8258\n",
            "Validation PCC: 0.6040591405149197\n",
            "Epoch 4/60\n",
            "5/5 [==============================] - 3s 523ms/step - loss: -0.8602\n",
            "Validation PCC: 0.6043235456195108\n",
            "Epoch 5/60\n",
            "5/5 [==============================] - 2s 406ms/step - loss: -0.8876\n",
            "Validation PCC: 0.6022090610633485\n",
            "Epoch 6/60\n",
            "5/5 [==============================] - 2s 405ms/step - loss: -0.9114\n",
            "Validation PCC: 0.5997554011817104\n",
            "Epoch 7/60\n",
            "5/5 [==============================] - 2s 413ms/step - loss: -0.9305\n",
            "Validation PCC: 0.5973228472706607\n",
            "Epoch 8/60\n",
            "5/5 [==============================] - 2s 441ms/step - loss: -0.9457\n",
            "Validation PCC: 0.5944900900996709\n",
            "Epoch 9/60\n",
            "5/5 [==============================] - 4s 710ms/step - loss: -0.9580\n",
            "Validation PCC: 0.5924378588870407\n",
            "Epoch 10/60\n",
            "5/5 [==============================] - 2s 397ms/step - loss: -0.9673\n",
            "Validation PCC: 0.5909892848616742\n",
            "Epoch 11/60\n",
            "5/5 [==============================] - 2s 388ms/step - loss: -0.9750\n",
            "Validation PCC: 0.5888776267559178\n",
            "Epoch 12/60\n",
            "5/5 [==============================] - 2s 387ms/step - loss: -0.9802\n",
            "Validation PCC: 0.5864002590102112\n",
            "Epoch 13/60\n",
            "5/5 [==============================] - 2s 393ms/step - loss: -0.9847\n",
            "Validation PCC: 0.5839121472917006\n",
            "Epoch 14/60\n",
            "5/5 [==============================] - 3s 590ms/step - loss: -0.9875\n",
            "Validation PCC: 0.5826222344828776\n",
            "Epoch 15/60\n",
            "5/5 [==============================] - 3s 609ms/step - loss: -0.9900\n",
            "Validation PCC: 0.5822343214562319\n",
            "Epoch 16/60\n",
            "5/5 [==============================] - 2s 402ms/step - loss: -0.9917\n",
            "Validation PCC: 0.5816990061878393\n",
            "Epoch 17/60\n",
            "5/5 [==============================] - 2s 391ms/step - loss: -0.9927\n",
            "Validation PCC: 0.5807186292735256\n",
            "Epoch 18/60\n",
            "5/5 [==============================] - 2s 387ms/step - loss: -0.9936\n",
            "Validation PCC: 0.5803216494463238\n",
            "Epoch 19/60\n",
            "5/5 [==============================] - 2s 399ms/step - loss: -0.9942\n",
            "Validation PCC: 0.5801500899150742\n",
            "Epoch 20/60\n",
            "5/5 [==============================] - 3s 725ms/step - loss: -0.9947\n",
            "Validation PCC: 0.579581145195559\n",
            "Epoch 21/60\n",
            "5/5 [==============================] - 3s 454ms/step - loss: -0.9950\n",
            "Validation PCC: 0.5785415989594411\n",
            "Epoch 22/60\n",
            "5/5 [==============================] - 2s 391ms/step - loss: -0.9954\n",
            "Validation PCC: 0.5779989046961512\n",
            "Epoch 23/60\n",
            "5/5 [==============================] - 2s 389ms/step - loss: -0.9956\n",
            "Validation PCC: 0.5779211788103673\n",
            "Epoch 24/60\n",
            "5/5 [==============================] - 2s 384ms/step - loss: -0.9957\n",
            "Validation PCC: 0.5765313721074279\n",
            "Epoch 25/60\n",
            "5/5 [==============================] - 2s 412ms/step - loss: -0.9959\n",
            "Validation PCC: 0.5761824609713626\n",
            "Epoch 26/60\n",
            "5/5 [==============================] - 4s 710ms/step - loss: -0.9959\n",
            "Validation PCC: 0.5756594088055231\n",
            "Epoch 27/60\n",
            "5/5 [==============================] - 2s 395ms/step - loss: -0.9961\n",
            "Validation PCC: 0.5759312765960141\n",
            "Epoch 28/60\n",
            "5/5 [==============================] - 2s 392ms/step - loss: -0.9962\n",
            "Validation PCC: 0.5755226262376786\n",
            "Epoch 29/60\n",
            "5/5 [==============================] - 2s 387ms/step - loss: -0.9961\n",
            "Validation PCC: 0.5750841883761283\n",
            "Epoch 30/60\n",
            "5/5 [==============================] - 2s 391ms/step - loss: -0.9962\n",
            "Validation PCC: 0.5745291918456301\n",
            "Epoch 31/60\n",
            "5/5 [==============================] - 3s 546ms/step - loss: -0.9963\n",
            "Validation PCC: 0.5740926964681887\n",
            "Epoch 32/60\n",
            "5/5 [==============================] - 3s 647ms/step - loss: -0.9964\n",
            "Validation PCC: 0.5741537800477658\n",
            "Epoch 33/60\n",
            "5/5 [==============================] - 2s 398ms/step - loss: -0.9963\n",
            "Validation PCC: 0.5738925791928333\n",
            "Epoch 34/60\n",
            "5/5 [==============================] - 2s 389ms/step - loss: -0.9964\n",
            "Validation PCC: 0.5728750769994496\n",
            "Epoch 35/60\n",
            "5/5 [==============================] - 2s 388ms/step - loss: -0.9965\n",
            "Validation PCC: 0.5726401959035055\n",
            "Epoch 36/60\n",
            "5/5 [==============================] - 2s 393ms/step - loss: -0.9966\n",
            "Validation PCC: 0.5727987010084329\n",
            "Epoch 37/60\n",
            "5/5 [==============================] - 3s 679ms/step - loss: -0.9966\n",
            "Validation PCC: 0.572885122978151\n",
            "Epoch 38/60\n",
            "5/5 [==============================] - 3s 550ms/step - loss: -0.9966\n",
            "Validation PCC: 0.572718868891031\n",
            "Epoch 39/60\n",
            "5/5 [==============================] - 2s 398ms/step - loss: -0.9966\n",
            "Validation PCC: 0.5721801448508835\n",
            "Epoch 40/60\n",
            "5/5 [==============================] - 2s 386ms/step - loss: -0.9966\n",
            "Validation PCC: 0.5713076111782572\n",
            "Epoch 41/60\n",
            "5/5 [==============================] - 2s 393ms/step - loss: -0.9967\n",
            "Validation PCC: 0.5719520384812337\n",
            "Epoch 42/60\n",
            "5/5 [==============================] - 2s 391ms/step - loss: -0.9967\n",
            "Validation PCC: 0.5722262602711912\n",
            "Epoch 43/60\n",
            "5/5 [==============================] - 4s 692ms/step - loss: -0.9966\n",
            "Validation PCC: 0.5717475335279202\n",
            "Epoch 44/60\n",
            "5/5 [==============================] - 2s 384ms/step - loss: -0.9967\n",
            "Validation PCC: 0.5714359122031829\n",
            "Epoch 45/60\n",
            "5/5 [==============================] - 2s 387ms/step - loss: -0.9967\n",
            "Validation PCC: 0.5702175537846831\n",
            "Epoch 46/60\n",
            "5/5 [==============================] - 2s 386ms/step - loss: -0.9966\n",
            "Validation PCC: 0.5712601633531945\n",
            "Epoch 47/60\n",
            "5/5 [==============================] - 2s 392ms/step - loss: -0.9964\n",
            "Validation PCC: 0.5729625783153128\n",
            "Epoch 48/60\n",
            "5/5 [==============================] - 2s 479ms/step - loss: -0.9966\n",
            "Validation PCC: 0.5709622631695693\n",
            "Epoch 49/60\n",
            "5/5 [==============================] - 3s 670ms/step - loss: -0.9967\n",
            "Validation PCC: 0.5705503992401739\n",
            "Epoch 50/60\n",
            "5/5 [==============================] - 2s 390ms/step - loss: -0.9965\n",
            "Validation PCC: 0.5710062635745312\n",
            "Epoch 51/60\n",
            "5/5 [==============================] - 2s 389ms/step - loss: -0.9966\n",
            "Validation PCC: 0.5717353844297866\n",
            "Epoch 52/60\n",
            "5/5 [==============================] - 2s 387ms/step - loss: -0.9965\n",
            "Validation PCC: 0.5718745467386067\n",
            "Epoch 53/60\n",
            "5/5 [==============================] - 2s 397ms/step - loss: -0.9967\n",
            "Validation PCC: 0.5709127289484823\n",
            "Epoch 54/60\n",
            "5/5 [==============================] - 3s 596ms/step - loss: -0.9967\n",
            "Validation PCC: 0.5707129768630145\n",
            "Epoch 55/60\n",
            "5/5 [==============================] - 3s 597ms/step - loss: -0.9966\n",
            "Validation PCC: 0.5701620839854057\n",
            "Epoch 56/60\n",
            "5/5 [==============================] - 2s 399ms/step - loss: -0.9967\n",
            "Validation PCC: 0.5699602398274356\n",
            "Epoch 57/60\n",
            "5/5 [==============================] - 2s 384ms/step - loss: -0.9966\n",
            "Validation PCC: 0.5683736959601262\n",
            "Epoch 58/60\n",
            "5/5 [==============================] - 2s 402ms/step - loss: -0.9966\n",
            "Validation PCC: 0.5707909409830214\n",
            "Epoch 59/60\n",
            "5/5 [==============================] - 2s 389ms/step - loss: -0.9967\n",
            "Validation PCC: 0.5714838683489529\n",
            "Epoch 60/60\n",
            "5/5 [==============================] - 3s 695ms/step - loss: -0.9966\n",
            "Validation PCC: 0.5704621529674103\n"
          ]
        }
      ]
    },
    {
      "cell_type": "code",
      "source": [
        "loaded_model = load_model('/content/drive/MyDrive/Colab Notebooks/Working/spanish_best_model_cnn.h5',custom_objects={'_lossfunction': _lossfunction})"
      ],
      "metadata": {
        "id": "S5nsab8aRJTJ"
      },
      "execution_count": 20,
      "outputs": []
    },
    {
      "cell_type": "code",
      "source": [
        "predictionclasses = list(model.predict([test_x_1,test_x_2]))\n",
        "prediction = np.dot(np.array(predictionclasses),np.arange(6))\n",
        "goldlabels = test_data[2]\n",
        "pearsonr(np.round(prediction,4), goldlabels)[0]"
      ],
      "metadata": {
        "colab": {
          "base_uri": "https://localhost:8080/"
        },
        "id": "wP_K74rUSvaw",
        "outputId": "22e1ce56-9646-4336-dd79-ec70fca47ae9"
      },
      "execution_count": 21,
      "outputs": [
        {
          "output_type": "execute_result",
          "data": {
            "text/plain": [
              "0.7365857390234585"
            ]
          },
          "metadata": {},
          "execution_count": 21
        }
      ]
    },
    {
      "cell_type": "code",
      "source": [
        "type(test_x_1),type(test_x_1[0]),type(test_x_1[0][0]),type(test_x_1[0][0][0])"
      ],
      "metadata": {
        "colab": {
          "base_uri": "https://localhost:8080/"
        },
        "id": "s-ssSSX_ogaa",
        "outputId": "93d131b5-7fb6-4e17-e0b4-8fbf8a50a3e7"
      },
      "execution_count": 22,
      "outputs": [
        {
          "output_type": "execute_result",
          "data": {
            "text/plain": [
              "(numpy.ndarray, numpy.ndarray, numpy.ndarray, numpy.float64)"
            ]
          },
          "metadata": {},
          "execution_count": 22
        }
      ]
    },
    {
      "cell_type": "code",
      "source": [
        "predictionclasses = list(loaded_model.predict([test_x_1,test_x_2]))\n",
        "prediction = np.dot(np.array(predictionclasses),np.arange(6))\n",
        "goldlabels = test_data[2]\n",
        "pearsonr(np.round(prediction,4), goldlabels)[0]"
      ],
      "metadata": {
        "colab": {
          "base_uri": "https://localhost:8080/"
        },
        "id": "7hoIM7aIeyLH",
        "outputId": "4cca1b1f-20d0-469e-eb2f-8105f6c2f471"
      },
      "execution_count": 23,
      "outputs": [
        {
          "output_type": "stream",
          "name": "stdout",
          "text": [
            "8/8 [==============================] - 1s 32ms/step\n"
          ]
        },
        {
          "output_type": "execute_result",
          "data": {
            "text/plain": [
              "0.7710049866030046"
            ]
          },
          "metadata": {},
          "execution_count": 23
        }
      ]
    },
    {
      "cell_type": "code",
      "source": [
        "import re\n",
        "\n",
        "# Open the text file\n",
        "with open('/content/Epoch_spanish.txt', 'r') as file:\n",
        "    text = file.read()\n",
        "\n",
        "# Use regular expressions to extract the validation PCC values\n",
        "pcc_values = re.findall(r'Validation PCC: (\\d\\.\\d+)', text)\n",
        "pcc_values = [float(x) for x in pcc_values]\n",
        "print(pcc_values)"
      ],
      "metadata": {
        "colab": {
          "base_uri": "https://localhost:8080/"
        },
        "id": "aO9mAAJ7x7QE",
        "outputId": "68aaacfe-8bd0-4496-9028-e29374a982cc"
      },
      "execution_count": 25,
      "outputs": [
        {
          "output_type": "stream",
          "name": "stdout",
          "text": [
            "[0.5880058886764661, 0.6009383692321308, 0.6040591405149197, 0.6043235456195108, 0.6022090610633485, 0.5997554011817104, 0.5973228472706607, 0.5944900900996709, 0.5924378588870407, 0.5909892848616742, 0.5888776267559178, 0.5864002590102112, 0.5839121472917006, 0.5826222344828776, 0.5822343214562319, 0.5816990061878393, 0.5807186292735256, 0.5803216494463238, 0.5801500899150742, 0.579581145195559, 0.5785415989594411, 0.5779989046961512, 0.5779211788103673, 0.5765313721074279, 0.5761824609713626, 0.5756594088055231, 0.5759312765960141, 0.5755226262376786, 0.5750841883761283, 0.5745291918456301, 0.5740926964681887, 0.5741537800477658, 0.5738925791928333, 0.5728750769994496, 0.5726401959035055, 0.5727987010084329, 0.572885122978151, 0.572718868891031, 0.5721801448508835, 0.5713076111782572, 0.5719520384812337, 0.5722262602711912, 0.5717475335279202, 0.5714359122031829, 0.5702175537846831, 0.5712601633531945, 0.5729625783153128, 0.5709622631695693, 0.5705503992401739, 0.5710062635745312, 0.5717353844297866, 0.5718745467386067, 0.5709127289484823, 0.5707129768630145, 0.5701620839854057, 0.5699602398274356, 0.5683736959601262, 0.5707909409830214, 0.5714838683489529, 0.5704621529674103]\n"
          ]
        }
      ]
    },
    {
      "cell_type": "code",
      "source": [
        "import matplotlib.pyplot as plt\n",
        "\n",
        "# Extract the validation PCC and loss from the history variable\n",
        "# val_pcc = history.history['Validation PCC']\n",
        "loss = history.history['loss']\n",
        "\n",
        "# Plot the validation PCC and loss over epochs\n",
        "epochs = range(1, len(loss) + 1)\n",
        "plt.plot(epochs, pcc_values, 'b', label='Validation PCC')\n",
        "plt.plot(epochs, loss, 'r', label='Loss')\n",
        "plt.title('Validation PCC and Loss over Epochs For Spainsh')\n",
        "plt.xlabel('Epochs')\n",
        "plt.ylabel('PCC/Loss')\n",
        "plt.legend()\n",
        "plt.show()\n"
      ],
      "metadata": {
        "colab": {
          "base_uri": "https://localhost:8080/",
          "height": 472
        },
        "id": "tpN9iBrCyiCy",
        "outputId": "6b53fb71-a99f-436d-af17-6961e4237fdc"
      },
      "execution_count": 27,
      "outputs": [
        {
          "output_type": "display_data",
          "data": {
            "text/plain": [
              "<Figure size 640x480 with 1 Axes>"
            ],
            "image/png": "[encoded data removed]"
          },
          "metadata": {}
        }
      ]
    },
    {
      "cell_type": "code",
      "source": [
        "# with open('/content/drive/MyDrive/Colab Notebooks/Working/es_final/es_test.txt') as f:\n",
        "#   lines = [line.rstrip('\\n') for line in f]\n",
        "# for i in range(250):\n",
        "#   a = test_data[2][i]\n",
        "#   b= np.round(prediction[i],1)\n",
        "#   if abs(a - b) < 0.5:\n",
        "#     print(lines[i],a,b)"
      ],
      "metadata": {
        "id": "0TzPFWz9xarX"
      },
      "execution_count": null,
      "outputs": []
    }
  ]
}