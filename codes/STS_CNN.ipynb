{
  "nbformat": 4,
  "nbformat_minor": 0,
  "metadata": {
    "colab": {
      "provenance": []
    },
    "kernelspec": {
      "name": "python3",
      "display_name": "Python 3"
    },
    "language_info": {
      "name": "python"
    }
  },
  "cells": [
    {
      "cell_type": "code",
      "execution_count": 12,
      "metadata": {
        "id": "8R-Qizu88ef4",
        "colab": {
          "base_uri": "https://localhost:8080/"
        },
        "outputId": "646a02c1-fe85-4059-9786-09b70c1554d0"
      },
      "outputs": [
        {
          "output_type": "stream",
          "name": "stderr",
          "text": [
            "[nltk_data] Downloading package punkt to /root/nltk_data...\n",
            "[nltk_data]   Unzipping tokenizers/punkt.zip.\n"
          ]
        },
        {
          "output_type": "execute_result",
          "data": {
            "text/plain": [
              "True"
            ]
          },
          "metadata": {},
          "execution_count": 12
        }
      ],
      "source": [
        "from nltk.tokenize import RegexpTokenizer\n",
        "import numpy as np\n",
        "import re\n",
        "from keras.utils import pad_sequences\n",
        "from keras.callbacks import EarlyStopping\n",
        "import random,copy,string\n",
        "import matplotlib.pyplot as plt\n",
        "import nltk\n",
        "import multiprocessing as mp\n",
        "import random,copy,string\n",
        "from scipy.stats import pearsonr\n",
        "from tensorflow.python.keras import backend as K\n",
        "from tensorflow.python.keras.models import Model\n",
        "from tensorflow.python.keras.layers import Input, Conv1D,  MaxPool1D, Flatten\n",
        "from tensorflow.python.keras.layers import Lambda, multiply, concatenate, Dense\n",
        "from tensorflow.python.keras.callbacks import Callback\n",
        "# from keras.optimizers import Adam\n",
        "import tensorflow as tf\n",
        "nltk.download('punkt')"
      ]
    },
    {
      "cell_type": "code",
      "source": [
        "from keras import models"
      ],
      "metadata": {
        "id": "WIcBhFEdmRGG"
      },
      "execution_count": 35,
      "outputs": []
    },
    {
      "cell_type": "code",
      "source": [
        "from google.colab import drive\n",
        "drive.mount('/content/drive')"
      ],
      "metadata": {
        "colab": {
          "base_uri": "https://localhost:8080/"
        },
        "id": "T8KsBjT99H5c",
        "outputId": "ea6070c6-f12e-4029-d877-102244f12072"
      },
      "execution_count": 13,
      "outputs": [
        {
          "output_type": "stream",
          "name": "stdout",
          "text": [
            "Drive already mounted at /content/drive; to attempt to forcibly remount, call drive.mount(\"/content/drive\", force_remount=True).\n"
          ]
        }
      ]
    },
    {
      "cell_type": "markdown",
      "source": [
        "###HYPER - PARAMETERS"
      ],
      "metadata": {
        "id": "QUiFKm508zbH"
      }
    },
    {
      "cell_type": "code",
      "source": [
        "sentence_length, padding_size = 40,40\n",
        "embedding_size = 300\n",
        "no_of_filters = 300\n",
        "kernel_size = 1\n",
        "cnn_activation_function = 'relu'\n",
        "cnn_kernel_initializer = 'he_uniform'\n",
        "no_of_units_ds1 = 300\n",
        "output_units = 6\n",
        "optimizer = 'adam'\n",
        "batch_size = 300\n",
        "num_batches = 2"
      ],
      "metadata": {
        "id": "SWXQS0bN8vmJ"
      },
      "execution_count": 6,
      "outputs": []
    },
    {
      "cell_type": "markdown",
      "source": [
        "### Glove embedding"
      ],
      "metadata": {
        "id": "kIfvLRNg9TJd"
      }
    },
    {
      "cell_type": "code",
      "source": [
        "word_to_index = dict()\n",
        "index_to_word = dict()\n",
        "index = 1\n",
        "embed_dict = {}\n",
        "embed_dict['oov'] = np.zeros(300)\n",
        "\n",
        "with open('/content/drive/MyDrive/Colab Notebooks/Working/glove.6B.300d.txt','r') as f:  #/content/drive/MyDrive/NLP/glove.840B.300d.txt /content/drive/MyDrive/smai/glove/glove.6B.300d.txt\n",
        "  for line in f:\n",
        "    values = line.split(' ')\n",
        "    word = values[0]\n",
        "    vector = np.asarray(values[1:],'float32')\n",
        "    embed_dict[word]=vector\n",
        "    word_to_index[word] = index\n",
        "    index_to_word[index] = word\n",
        "    index+=1\n",
        "\n",
        "word_to_index['oov'] = 0\n",
        "index_to_word[0] = 'oov'"
      ],
      "metadata": {
        "id": "ycRygVo-86UE"
      },
      "execution_count": 7,
      "outputs": []
    },
    {
      "cell_type": "markdown",
      "source": [
        "### Data Pre-Processing "
      ],
      "metadata": {
        "id": "o_jEwNJx_uOh"
      }
    },
    {
      "cell_type": "code",
      "source": [
        "def generate_embedding_matrix(sentence):\n",
        "\n",
        "    tokens_ = nltk.word_tokenize(sentence)\n",
        "    tokens = []\n",
        "\n",
        "    for i in tokens_:\n",
        "      if i not in string.punctuation:\n",
        "        tokens.append(i.lower())\n",
        "    # sentence = sentence.lower()\n",
        "    # sentence = re.sub('[^a-z0-9]',' ',sentence)\n",
        "    # Tokenize the sentence and do the padding\n",
        "    \n",
        "    word_to_vec = []\n",
        "    # Loop over the tokens and generate their embeddings\n",
        "    for i, token in enumerate(tokens):\n",
        "        if token in word_to_index:\n",
        "            word_to_vec.append(word_to_index[token])\n",
        "        else:\n",
        "            word_to_vec.append(word_to_index['oov'])\n",
        "\n",
        "    # print(word_to_vec)\n",
        "\n",
        "    word_to_vec = np.array(word_to_vec)\n",
        "    word_to_vec=word_to_vec.reshape(1,word_to_vec.shape[0])\n",
        "    word_to_vec = pad_sequences(word_to_vec, maxlen=sentence_length, truncating='post', padding='post')\n",
        "\n",
        "    # Initialize an empty matrix with shape (sentence_length, 300)\n",
        "    embedding_matrix = np.zeros((sentence_length, 300))\n",
        "    \n",
        "    # Loop over the tokens and generate their embeddings\n",
        "    for i, token in enumerate(word_to_vec[0]):\n",
        "        embedding_matrix[i, :] = embed_dict[index_to_word[token]]\n",
        "    return embedding_matrix"
      ],
      "metadata": {
        "id": "naKU8eRX_sgZ"
      },
      "execution_count": 8,
      "outputs": []
    },
    {
      "cell_type": "code",
      "source": [
        "def get_input(filename):\n",
        "  with open(filename) as f:\n",
        "    lines = [line.rstrip('\\n') for line in f]\n",
        "  s1_embedding_matrix_list,s2_embedding_matrix_list,actual_scores = list(),list(),list()\n",
        "  for line in lines:\n",
        "    # _,_,_,_,score,s1,s2 = line.split('\\t')[:7]\n",
        "    s1,s2,score = line.split('\\t')\n",
        "    s1_embedding_matrix_list.append(generate_embedding_matrix(s1))\n",
        "    s2_embedding_matrix_list.append(generate_embedding_matrix(s2))\n",
        "    actual_scores.append(eval(score))\n",
        "\n",
        "  s1_embedding_matrix_list = np.array(s1_embedding_matrix_list)\n",
        "  s2_embedding_matrix_list = np.array(s2_embedding_matrix_list)\n",
        "  actual_scores = np.array(actual_scores)\n",
        "  return s1_embedding_matrix_list,s2_embedding_matrix_list,actual_scores"
      ],
      "metadata": {
        "id": "R95XpJG3DYId"
      },
      "execution_count": 9,
      "outputs": []
    },
    {
      "cell_type": "code",
      "source": [
        "def generate_one_hot_lists(arr):\n",
        "    # Compute the fractional parts of the array elements\n",
        "    fracs = np.mod(arr, 1)\n",
        "    # Compute the distances from the nearest integers\n",
        "    cfracs = 1 - fracs\n",
        "    actual =  np.int64(arr - fracs)\n",
        "    dists = np.minimum(fracs, 1 - fracs)\n",
        "\n",
        "    # Compute the one-hot encoding of the distances\n",
        "    one_hots = np.zeros((arr.shape[0], 6))\n",
        "    for i in range(len(arr)):\n",
        "      temp = np.zeros(6,)\n",
        "      if fracs[i] == 0.0:\n",
        "        temp[actual[i]] = 1.0\n",
        "      else:\n",
        "        temp[actual[i]] = cfracs[i]\n",
        "        temp[actual[i]+1] = fracs[i] \n",
        "      one_hots[i,:] = temp \n",
        "    return one_hots"
      ],
      "metadata": {
        "id": "pJSgC2TBDhH5"
      },
      "execution_count": 10,
      "outputs": []
    },
    {
      "cell_type": "code",
      "source": [
        "train = '/content/drive/MyDrive/Colab Notebooks/Working/en/en-train.txt'\n",
        "validation ='/content/drive/MyDrive/Colab Notebooks/Working/en/en-val.txt'\n",
        "test = '/content/drive/MyDrive/Colab Notebooks/Working/en/test-sentences-2017.txt'\n",
        "\n",
        "train_data, validation_data,  test_data = get_input(train), get_input(validation),  get_input(test)\n",
        "\n",
        "train_x_1,      train_x_2,      train_y       = train_data[0],      train_data[1],      generate_one_hot_lists(train_data[2]) \n",
        "validation_x_1, validation_x_2, validation_y  = validation_data[0], validation_data[1], generate_one_hot_lists(validation_data[2]) \n",
        "test_x_1,       test_x_2,       test_y        = test_data[0],       test_data[1],       generate_one_hot_lists(test_data[2]) "
      ],
      "metadata": {
        "id": "7SOEGnWiD1MH"
      },
      "execution_count": 14,
      "outputs": []
    },
    {
      "cell_type": "code",
      "source": [
        "#Analyise Dataset..\n",
        "def get_avg_sentence_length(sentences):\n",
        "    # Get the total number of words in all sentences\n",
        "    total_words = sum([len(sentence.split()) for sentence in sentences])\n",
        "\n",
        "    # Calculate the average sentence length\n",
        "    avg_sentence_length = total_words / len(sentences)\n",
        "\n",
        "    return avg_sentence_length\n",
        "\n",
        "def plot_sentence_length_variation(sentences):\n",
        "    # Get the length of each sentence\n",
        "    sentence_lengths = [len(sentence.split()) for sentence in sentences]\n",
        "\n",
        "    # Plot the sentence length distribution\n",
        "    plt.hist(sentence_lengths, bins=range(0, max(sentence_lengths) + 1, 5))\n",
        "    plt.title('Sentence Length Distribution')\n",
        "    plt.xlabel('Sentence Length')\n",
        "    plt.ylabel('Number of Sentences')\n",
        "    plt.show()\n"
      ],
      "metadata": {
        "id": "6MSMPiXGF1W3"
      },
      "execution_count": 15,
      "outputs": []
    },
    {
      "cell_type": "code",
      "source": [
        "with open(train) as f:\n",
        "    lines = f.readlines()\n",
        "s1,s2 = list(),list()\n",
        "for line in lines:\n",
        "  a,b,s = line.split('\\t')\n",
        "  s1.append(a)\n",
        "  s2.append(b)\n",
        "\n",
        "avg_sentence_length = get_avg_sentence_length(s1)\n",
        "print('Average sentence length:', avg_sentence_length)\n",
        "plot_sentence_length_variation(s1)"
      ],
      "metadata": {
        "colab": {
          "base_uri": "https://localhost:8080/",
          "height": 490
        },
        "id": "E-u491XsHAZT",
        "outputId": "b9d92347-2e5d-4b95-e320-7d261164d77c"
      },
      "execution_count": 16,
      "outputs": [
        {
          "output_type": "stream",
          "name": "stdout",
          "text": [
            "Average sentence length: 11.32315750093528\n"
          ]
        },
        {
          "output_type": "display_data",
          "data": {
            "text/plain": [
              "<Figure size 640x480 with 1 Axes>"
            ],
            "image/png": "[encoded data removed]"
          },
          "metadata": {}
        }
      ]
    },
    {
      "cell_type": "code",
      "source": [
        "count = 0\n",
        "for sentence in s1:\n",
        "    if len(sentence.split()) <= 40:\n",
        "        count += 1\n",
        "print('Number of sentences greater than 40 words:', count)\n",
        "print('Percentage they are covering:',count/len(s1)*100)"
      ],
      "metadata": {
        "colab": {
          "base_uri": "https://localhost:8080/"
        },
        "id": "-bk1gqq7H1ri",
        "outputId": "db4513ca-8e52-4a9a-f52f-8952c71c92b2"
      },
      "execution_count": 17,
      "outputs": [
        {
          "output_type": "stream",
          "name": "stdout",
          "text": [
            "Number of sentences greater than 40 words: 13194\n",
            "Percentage they are covering: 98.72053872053871\n"
          ]
        }
      ]
    },
    {
      "cell_type": "code",
      "source": [
        "train_x_1.shape,validation_x_1.shape,test_x_1.shape,test_y.shape"
      ],
      "metadata": {
        "colab": {
          "base_uri": "https://localhost:8080/"
        },
        "id": "3xg8iRkmEt-Y",
        "outputId": "78c793ae-322d-4543-cc68-dc86ffbaaa94"
      },
      "execution_count": 18,
      "outputs": [
        {
          "output_type": "execute_result",
          "data": {
            "text/plain": [
              "((13365, 40, 300), (1500, 40, 300), (250, 40, 300), (250, 6))"
            ]
          },
          "metadata": {},
          "execution_count": 18
        }
      ]
    },
    {
      "cell_type": "markdown",
      "source": [
        "### Model"
      ],
      "metadata": {
        "id": "S4AfqqS3Jvaa"
      }
    },
    {
      "cell_type": "code",
      "source": [
        "def _lossfunction(y_true,y_pred):\n",
        "  ny_true = y_true[:,1] + 2*y_true[:,2] + 3*y_true[:,3] + 4*y_true[:,4] + 5*y_true[:,5]\n",
        "  ny_pred = y_pred[:,1] + 2*y_pred[:,2] + 3*y_pred[:,3] + 4*y_pred[:,4] + 5*y_pred[:,5]\n",
        "  my_true = K.mean(ny_true)\n",
        "  my_pred = K.mean(ny_pred)\n",
        "  var_true = (ny_true - my_true)**2\n",
        "  var_pred = (ny_pred - my_pred)**2\n",
        "  return -K.sum((ny_true-my_true)*(ny_pred-my_pred),axis=-1) / (K.sqrt(K.sum(var_true,axis=-1)*K.sum(var_pred,axis=-1)))"
      ],
      "metadata": {
        "id": "IGn_S6weFVD6"
      },
      "execution_count": 19,
      "outputs": []
    },
    {
      "cell_type": "code",
      "source": [
        "sentence1 = Input(shape=(sentence_length,embedding_size))\n",
        "sentence2 = Input(shape=(sentence_length,embedding_size))\n",
        "cnn_layer = Conv1D(filters = no_of_filters,\n",
        "                    kernel_size = kernel_size,\n",
        "                    activation='relu',\n",
        "                    kernel_initializer=cnn_kernel_initializer)\n",
        "\n",
        "cnn_layer1 = cnn_layer(sentence1)\n",
        "cnn_layer2 = cnn_layer(sentence2)\n",
        "\n",
        "max_pool = MaxPool1D(pool_size=padding_size-kernel_size+1)\n",
        "\n",
        "max_pool1 = max_pool(cnn_layer1)\n",
        "max_pool2 = max_pool(cnn_layer2)\n",
        "flatten = Flatten()\n",
        "\n",
        "flatten1 = flatten(max_pool1)\n",
        "flatten2 = flatten(max_pool2)\n",
        "\n",
        "absDifference = Lambda(lambda X:K.abs(X[0] - X[1]))([flatten1,flatten2])\n",
        "\n",
        "mulDifference = multiply([flatten1,flatten2])\n",
        "\n",
        "allDifference = concatenate([absDifference,mulDifference])\n",
        "\n",
        "Denselayer_1 = Dense(no_of_units_ds1,activation='tanh',kernel_initializer=cnn_kernel_initializer)(allDifference)\n",
        "\n",
        "output = Dense(name='output',units=output_units,activation='softmax',kernel_initializer=cnn_kernel_initializer)(Denselayer_1)\n",
        "\n",
        "model = Model(inputs=[sentence1,sentence2], outputs=output)\n",
        "\n",
        "model.summary()"
      ],
      "metadata": {
        "colab": {
          "base_uri": "https://localhost:8080/"
        },
        "id": "V6DnoYjnLRuc",
        "outputId": "4177dc67-9e71-4e66-ac02-26b7335887c7"
      },
      "execution_count": 20,
      "outputs": [
        {
          "output_type": "stream",
          "name": "stdout",
          "text": [
            "Model: \"model\"\n",
            "__________________________________________________________________________________________________\n",
            "Layer (type)                    Output Shape         Param #     Connected to                     \n",
            "==================================================================================================\n",
            "input_1 (InputLayer)            [(None, 40, 300)]    0                                            \n",
            "__________________________________________________________________________________________________\n",
            "input_2 (InputLayer)            [(None, 40, 300)]    0                                            \n",
            "__________________________________________________________________________________________________\n",
            "conv1d (Conv1D)                 (None, 40, 300)      90300       input_1[0][0]                    \n",
            "                                                                 input_2[0][0]                    \n",
            "__________________________________________________________________________________________________\n",
            "max_pooling1d (MaxPooling1D)    (None, 1, 300)       0           conv1d[0][0]                     \n",
            "                                                                 conv1d[1][0]                     \n",
            "__________________________________________________________________________________________________\n",
            "flatten (Flatten)               (None, 300)          0           max_pooling1d[0][0]              \n",
            "                                                                 max_pooling1d[1][0]              \n",
            "__________________________________________________________________________________________________\n",
            "lambda (Lambda)                 (None, 300)          0           flatten[0][0]                    \n",
            "                                                                 flatten[1][0]                    \n",
            "__________________________________________________________________________________________________\n",
            "multiply (Multiply)             (None, 300)          0           flatten[0][0]                    \n",
            "                                                                 flatten[1][0]                    \n",
            "__________________________________________________________________________________________________\n",
            "concatenate (Concatenate)       (None, 600)          0           lambda[0][0]                     \n",
            "                                                                 multiply[0][0]                   \n",
            "__________________________________________________________________________________________________\n",
            "dense (Dense)                   (None, 300)          180300      concatenate[0][0]                \n",
            "__________________________________________________________________________________________________\n",
            "output (Dense)                  (None, 6)            1806        dense[0][0]                      \n",
            "==================================================================================================\n",
            "Total params: 272,406\n",
            "Trainable params: 272,406\n",
            "Non-trainable params: 0\n",
            "__________________________________________________________________________________________________\n"
          ]
        }
      ]
    },
    {
      "cell_type": "code",
      "source": [
        "model.compile(loss=_lossfunction, optimizer='Adam')"
      ],
      "metadata": {
        "id": "VeGOWNr-LyB1"
      },
      "execution_count": 21,
      "outputs": []
    },
    {
      "cell_type": "code",
      "source": [
        "def eval_model(model):\n",
        "  predictionclasses = list(model.predict([validation_x_1,validation_x_2]))\n",
        "  prediction = np.dot(np.array(predictionclasses),np.arange(6))\n",
        "  goldlabels = validation_data[2]\n",
        "  result=pearsonr(prediction, goldlabels)[0]\n",
        "  print('Validation PCC:',result)\n",
        "  return round(result,4)"
      ],
      "metadata": {
        "id": "BOTxBhopL_A6"
      },
      "execution_count": 22,
      "outputs": []
    },
    {
      "cell_type": "code",
      "source": [
        "class Evaluate(Callback):\n",
        "  def __init__(self, task, wfname):\n",
        "    self.task       = task\n",
        "    self.bestresult = 0.0\n",
        "    self.wfname     = wfname\n",
        "  def on_epoch_end(self, epoch, logs={}):\n",
        "    validresult = eval_model(self.task)\n",
        "    if validresult > self.bestresult:\n",
        "      self.bestresult = validresult\n",
        "      self.task.save(self.wfname)"
      ],
      "metadata": {
        "id": "R0qb-ZVDNGpP"
      },
      "execution_count": 23,
      "outputs": []
    },
    {
      "cell_type": "code",
      "source": [
        "early_stopping = EarlyStopping(\n",
        "        monitor=\"val_loss\",\n",
        "        patience=4,\n",
        "        verbose=1,\n",
        "        mode=\"min\",\n",
        "        restore_best_weights=True, \n",
        "     )"
      ],
      "metadata": {
        "id": "VsvbHxE1Nq1N"
      },
      "execution_count": 24,
      "outputs": []
    },
    {
      "cell_type": "code",
      "source": [
        "history = model.fit(x=[train_x_1,train_x_2],\n",
        "                    y=train_y,\n",
        "                    callbacks=[Evaluate(model,'/content/drive/MyDrive/Colab Notebooks/Working/best_model_cnn.h5')],\n",
        "                    batch_size=batch_size,\n",
        "                    epochs = 60,\n",
        "                    verbose = 1)"
      ],
      "metadata": {
        "colab": {
          "base_uri": "https://localhost:8080/"
        },
        "id": "94u93x2NNwsd",
        "outputId": "c89bd1ed-6380-4a83-ed3d-6ffa8f0f12cb"
      },
      "execution_count": 25,
      "outputs": [
        {
          "output_type": "stream",
          "name": "stdout",
          "text": [
            "Epoch 1/60\n",
            "45/45 [==============================] - 14s 270ms/step - loss: -0.7095\n",
            "Validation PCC: 0.7961227376537485\n"
          ]
        },
        {
          "output_type": "stream",
          "name": "stderr",
          "text": [
            "/usr/local/lib/python3.10/dist-packages/tensorflow/python/keras/utils/generic_utils.py:494: CustomMaskWarning: Custom mask layers require a config and must override get_config. When loading, the custom mask layer must be passed to the custom_objects argument.\n",
            "  warnings.warn('Custom mask layers require a config and must override '\n"
          ]
        },
        {
          "output_type": "stream",
          "name": "stdout",
          "text": [
            "Epoch 2/60\n",
            "45/45 [==============================] - 11s 246ms/step - loss: -0.8199\n",
            "Validation PCC: 0.8169356401891952\n",
            "Epoch 3/60\n",
            "45/45 [==============================] - 10s 222ms/step - loss: -0.8668\n",
            "Validation PCC: 0.8223653978937996\n",
            "Epoch 4/60\n",
            "45/45 [==============================] - 12s 259ms/step - loss: -0.8990\n",
            "Validation PCC: 0.8252575411657436\n",
            "Epoch 5/60\n",
            "45/45 [==============================] - 12s 268ms/step - loss: -0.9253\n",
            "Validation PCC: 0.8225406328601435\n",
            "Epoch 6/60\n",
            "45/45 [==============================] - 12s 266ms/step - loss: -0.9436\n",
            "Validation PCC: 0.8154503392613528\n",
            "Epoch 7/60\n",
            "45/45 [==============================] - 12s 268ms/step - loss: -0.9556\n",
            "Validation PCC: 0.8148319465866433\n",
            "Epoch 8/60\n",
            "45/45 [==============================] - 12s 261ms/step - loss: -0.9644\n",
            "Validation PCC: 0.8095340179083588\n",
            "Epoch 9/60\n",
            "45/45 [==============================] - 10s 225ms/step - loss: -0.9716\n",
            "Validation PCC: 0.8030046527649635\n",
            "Epoch 10/60\n",
            "45/45 [==============================] - 11s 238ms/step - loss: -0.9770\n",
            "Validation PCC: 0.8014129343206239\n",
            "Epoch 11/60\n",
            "45/45 [==============================] - 12s 267ms/step - loss: -0.9798\n",
            "Validation PCC: 0.8008368599250011\n",
            "Epoch 12/60\n",
            "45/45 [==============================] - 12s 267ms/step - loss: -0.9828\n",
            "Validation PCC: 0.8012632931919169\n",
            "Epoch 13/60\n",
            "45/45 [==============================] - 12s 266ms/step - loss: -0.9837\n",
            "Validation PCC: 0.7969038257665924\n",
            "Epoch 14/60\n",
            "45/45 [==============================] - 12s 266ms/step - loss: -0.9840\n",
            "Validation PCC: 0.8024189971312577\n",
            "Epoch 15/60\n",
            "45/45 [==============================] - 11s 238ms/step - loss: -0.9869\n",
            "Validation PCC: 0.8026625397026765\n",
            "Epoch 16/60\n",
            "45/45 [==============================] - 10s 225ms/step - loss: -0.9880\n",
            "Validation PCC: 0.8015377799978497\n",
            "Epoch 17/60\n",
            "45/45 [==============================] - 12s 267ms/step - loss: -0.9885\n",
            "Validation PCC: 0.7982824983293471\n",
            "Epoch 18/60\n",
            "45/45 [==============================] - 12s 267ms/step - loss: -0.9894\n",
            "Validation PCC: 0.8013741480205798\n",
            "Epoch 19/60\n",
            "45/45 [==============================] - 12s 269ms/step - loss: -0.9902\n",
            "Validation PCC: 0.8051251803935362\n",
            "Epoch 20/60\n",
            "45/45 [==============================] - 12s 266ms/step - loss: -0.9903\n",
            "Validation PCC: 0.804775039818172\n",
            "Epoch 21/60\n",
            "45/45 [==============================] - 11s 239ms/step - loss: -0.9906\n",
            "Validation PCC: 0.8012532723948564\n",
            "Epoch 22/60\n",
            "45/45 [==============================] - 11s 231ms/step - loss: -0.9909\n",
            "Validation PCC: 0.8048887914753222\n",
            "Epoch 23/60\n",
            "45/45 [==============================] - 12s 265ms/step - loss: -0.9919\n",
            "Validation PCC: 0.8028480219012336\n",
            "Epoch 24/60\n",
            "45/45 [==============================] - 12s 267ms/step - loss: -0.9916\n",
            "Validation PCC: 0.8025243382979563\n",
            "Epoch 25/60\n",
            "45/45 [==============================] - 12s 267ms/step - loss: -0.9918\n",
            "Validation PCC: 0.8022590317532453\n",
            "Epoch 26/60\n",
            "45/45 [==============================] - 12s 266ms/step - loss: -0.9926\n",
            "Validation PCC: 0.8049530979157306\n",
            "Epoch 27/60\n",
            "45/45 [==============================] - 12s 261ms/step - loss: -0.9933\n",
            "Validation PCC: 0.8057105186483882\n",
            "Epoch 28/60\n",
            "45/45 [==============================] - 10s 223ms/step - loss: -0.9935\n",
            "Validation PCC: 0.8001278100850312\n",
            "Epoch 29/60\n",
            "45/45 [==============================] - 12s 259ms/step - loss: -0.9934\n",
            "Validation PCC: 0.807820336881849\n",
            "Epoch 30/60\n",
            "45/45 [==============================] - 12s 268ms/step - loss: -0.9934\n",
            "Validation PCC: 0.8036861728986094\n",
            "Epoch 31/60\n",
            "45/45 [==============================] - 12s 266ms/step - loss: -0.9935\n",
            "Validation PCC: 0.8070958382917518\n",
            "Epoch 32/60\n",
            "45/45 [==============================] - 12s 266ms/step - loss: -0.9938\n",
            "Validation PCC: 0.8073027848681759\n",
            "Epoch 33/60\n",
            "45/45 [==============================] - 12s 263ms/step - loss: -0.9940\n",
            "Validation PCC: 0.8035564687039962\n",
            "Epoch 34/60\n",
            "45/45 [==============================] - 10s 223ms/step - loss: -0.9939\n",
            "Validation PCC: 0.8136423223945363\n",
            "Epoch 35/60\n",
            "45/45 [==============================] - 11s 248ms/step - loss: -0.9939\n",
            "Validation PCC: 0.809500424087112\n",
            "Epoch 36/60\n",
            "45/45 [==============================] - 12s 266ms/step - loss: -0.9941\n",
            "Validation PCC: 0.8130465704546358\n",
            "Epoch 37/60\n",
            "45/45 [==============================] - 12s 268ms/step - loss: -0.9948\n",
            "Validation PCC: 0.8121667198003539\n",
            "Epoch 38/60\n",
            "45/45 [==============================] - 12s 266ms/step - loss: -0.9949\n",
            "Validation PCC: 0.8066350948646673\n",
            "Epoch 39/60\n",
            "45/45 [==============================] - 12s 268ms/step - loss: -0.9953\n",
            "Validation PCC: 0.8110963459810265\n",
            "Epoch 40/60\n",
            "45/45 [==============================] - 15s 327ms/step - loss: -0.9957\n",
            "Validation PCC: 0.8088319637618794\n",
            "Epoch 41/60\n",
            "45/45 [==============================] - 18s 413ms/step - loss: -0.9958\n",
            "Validation PCC: 0.8104937803997248\n",
            "Epoch 42/60\n",
            "45/45 [==============================] - 22s 479ms/step - loss: -0.9955\n",
            "Validation PCC: 0.8099587919118921\n",
            "Epoch 43/60\n",
            "45/45 [==============================] - 10s 217ms/step - loss: -0.9955\n",
            "Validation PCC: 0.8088940927926336\n",
            "Epoch 44/60\n",
            "45/45 [==============================] - 11s 248ms/step - loss: -0.9955\n",
            "Validation PCC: 0.8081998919283561\n",
            "Epoch 45/60\n",
            "45/45 [==============================] - 12s 268ms/step - loss: -0.9954\n",
            "Validation PCC: 0.811433114628097\n",
            "Epoch 46/60\n",
            "45/45 [==============================] - 12s 270ms/step - loss: -0.9954\n",
            "Validation PCC: 0.8140326538113488\n",
            "Epoch 47/60\n",
            "45/45 [==============================] - 12s 268ms/step - loss: -0.9953\n",
            "Validation PCC: 0.8071002207358324\n",
            "Epoch 48/60\n",
            "45/45 [==============================] - 13s 296ms/step - loss: -0.9949\n",
            "Validation PCC: 0.8144779240518729\n",
            "Epoch 49/60\n",
            "45/45 [==============================] - 12s 275ms/step - loss: -0.9946\n",
            "Validation PCC: 0.8113248428743705\n",
            "Epoch 50/60\n",
            "45/45 [==============================] - 10s 222ms/step - loss: -0.9951\n",
            "Validation PCC: 0.814780176314246\n",
            "Epoch 51/60\n",
            "45/45 [==============================] - 11s 248ms/step - loss: -0.9950\n",
            "Validation PCC: 0.8106150884145059\n",
            "Epoch 52/60\n",
            "45/45 [==============================] - 12s 264ms/step - loss: -0.9954\n",
            "Validation PCC: 0.813410166453555\n",
            "Epoch 53/60\n",
            "45/45 [==============================] - 12s 265ms/step - loss: -0.9955\n",
            "Validation PCC: 0.8147501930298469\n",
            "Epoch 54/60\n",
            "45/45 [==============================] - 13s 292ms/step - loss: -0.9957\n",
            "Validation PCC: 0.8170411833962683\n",
            "Epoch 55/60\n",
            "45/45 [==============================] - 12s 265ms/step - loss: -0.9959\n",
            "Validation PCC: 0.8148294123617096\n",
            "Epoch 56/60\n",
            "45/45 [==============================] - 11s 243ms/step - loss: -0.9958\n",
            "Validation PCC: 0.817679560753974\n",
            "Epoch 57/60\n",
            "45/45 [==============================] - 10s 225ms/step - loss: -0.9958\n",
            "Validation PCC: 0.8161336231007473\n",
            "Epoch 58/60\n",
            "45/45 [==============================] - 12s 263ms/step - loss: -0.9957\n",
            "Validation PCC: 0.8163398943181288\n",
            "Epoch 59/60\n",
            "45/45 [==============================] - 12s 265ms/step - loss: -0.9958\n",
            "Validation PCC: 0.8157500154529601\n",
            "Epoch 60/60\n",
            "45/45 [==============================] - 12s 265ms/step - loss: -0.9960\n",
            "Validation PCC: 0.8181132233649727\n"
          ]
        }
      ]
    },
    {
      "cell_type": "code",
      "source": [
        "import re\n",
        "\n",
        "# Open the text file\n",
        "with open('/content/Epoch_english.txt', 'r') as file:\n",
        "    text = file.read()\n",
        "\n",
        "# Use regular expressions to extract the validation PCC values\n",
        "pcc_values = re.findall(r'Validation PCC: (\\d\\.\\d+)', text)\n",
        "pcc_values = [float(x) for x in pcc_values]\n",
        "print(pcc_values)"
      ],
      "metadata": {
        "colab": {
          "base_uri": "https://localhost:8080/"
        },
        "id": "t7hISGtbrBlI",
        "outputId": "3e93a893-ce9d-4a8d-b039-87abf31cd016"
      },
      "execution_count": 52,
      "outputs": [
        {
          "output_type": "stream",
          "name": "stdout",
          "text": [
            "[0.7961227376537485, 0.8169356401891952, 0.8223653978937996, 0.8252575411657436, 0.8225406328601435, 0.8154503392613528, 0.8148319465866433, 0.8095340179083588, 0.8030046527649635, 0.8014129343206239, 0.8008368599250011, 0.8012632931919169, 0.7969038257665924, 0.8024189971312577, 0.8026625397026765, 0.8015377799978497, 0.7982824983293471, 0.8013741480205798, 0.8051251803935362, 0.804775039818172, 0.8012532723948564, 0.8048887914753222, 0.8028480219012336, 0.8025243382979563, 0.8022590317532453, 0.8049530979157306, 0.8057105186483882, 0.8001278100850312, 0.807820336881849, 0.8036861728986094, 0.8070958382917518, 0.8073027848681759, 0.8035564687039962, 0.8136423223945363, 0.809500424087112, 0.8130465704546358, 0.8121667198003539, 0.8066350948646673, 0.8110963459810265, 0.8088319637618794, 0.8104937803997248, 0.8099587919118921, 0.8088940927926336, 0.8081998919283561, 0.811433114628097, 0.8140326538113488, 0.8071002207358324, 0.8144779240518729, 0.8113248428743705, 0.814780176314246, 0.8106150884145059, 0.813410166453555, 0.8147501930298469, 0.8170411833962683, 0.8148294123617096, 0.817679560753974, 0.8161336231007473, 0.8163398943181288, 0.8157500154529601, 0.8181132233649727]\n"
          ]
        }
      ]
    },
    {
      "cell_type": "code",
      "source": [
        "history.history.keys()"
      ],
      "metadata": {
        "colab": {
          "base_uri": "https://localhost:8080/"
        },
        "id": "60DwpzqQj5Ri",
        "outputId": "d6d02f26-b0e1-4a7c-a73d-eacc7bcd2277"
      },
      "execution_count": 31,
      "outputs": [
        {
          "output_type": "execute_result",
          "data": {
            "text/plain": [
              "dict_keys(['loss'])"
            ]
          },
          "metadata": {},
          "execution_count": 31
        }
      ]
    },
    {
      "cell_type": "code",
      "source": [
        "import matplotlib.pyplot as plt\n",
        "\n",
        "# Extract the validation PCC and loss from the history variable\n",
        "# val_pcc = history.history['Validation PCC']\n",
        "loss = history.history['loss']\n",
        "\n",
        "# Plot the validation PCC and loss over epochs\n",
        "epochs = range(1, len(loss) + 1)\n",
        "plt.plot(epochs, pcc_values, 'b', label='Validation PCC')\n",
        "plt.plot(epochs, loss, 'r', label='Loss')\n",
        "plt.title('Validation PCC and Loss over Epochs')\n",
        "plt.xlabel('Epochs')\n",
        "plt.ylabel('PCC/Loss')\n",
        "plt.legend()\n",
        "plt.show()\n"
      ],
      "metadata": {
        "colab": {
          "base_uri": "https://localhost:8080/",
          "height": 472
        },
        "id": "AnHKOke3iOoD",
        "outputId": "97bcafea-5456-4173-c474-676db686cb52"
      },
      "execution_count": 53,
      "outputs": [
        {
          "output_type": "display_data",
          "data": {
            "text/plain": [
              "<Figure size 640x480 with 1 Axes>"
            ],
            "image/png": "[encoded data removed]"
          },
          "metadata": {}
        }
      ]
    },
    {
      "cell_type": "code",
      "source": [
        "from keras.models import load_model"
      ],
      "metadata": {
        "id": "99geTmEumxUO"
      },
      "execution_count": 37,
      "outputs": []
    },
    {
      "cell_type": "code",
      "source": [
        "loaded_model = load_model('/content/drive/MyDrive/Colab Notebooks/Working/best_model_cnn.h5',custom_objects={'_lossfunction': _lossfunction})"
      ],
      "metadata": {
        "id": "S5nsab8aRJTJ"
      },
      "execution_count": 38,
      "outputs": []
    },
    {
      "cell_type": "code",
      "source": [
        "predictionclasses = list(model.predict([test_x_1,test_x_2]))\n",
        "prediction = np.dot(np.array(predictionclasses),np.arange(6))\n",
        "goldlabels = test_data[2]\n",
        "pearsonr(np.round(prediction,4), goldlabels)[0]"
      ],
      "metadata": {
        "colab": {
          "base_uri": "https://localhost:8080/"
        },
        "id": "wP_K74rUSvaw",
        "outputId": "90502a41-a614-4a6f-d0e4-e4d7d668ac68"
      },
      "execution_count": 39,
      "outputs": [
        {
          "output_type": "execute_result",
          "data": {
            "text/plain": [
              "0.7928529713152234"
            ]
          },
          "metadata": {},
          "execution_count": 39
        }
      ]
    },
    {
      "cell_type": "code",
      "source": [
        "predictionclasses = list(loaded_model.predict([test_x_1,test_x_2]))\n",
        "prediction = np.dot(np.array(predictionclasses),np.arange(6))\n",
        "goldlabels = test_data[2]\n",
        "pearsonr(np.round(prediction,4), goldlabels)[0]"
      ],
      "metadata": {
        "colab": {
          "base_uri": "https://localhost:8080/"
        },
        "id": "7hoIM7aIeyLH",
        "outputId": "ec58e59c-6043-410e-f796-3ef647729b85"
      },
      "execution_count": 40,
      "outputs": [
        {
          "output_type": "stream",
          "name": "stdout",
          "text": [
            "8/8 [==============================] - 1s 22ms/step\n"
          ]
        },
        {
          "output_type": "execute_result",
          "data": {
            "text/plain": [
              "0.8064328544724072"
            ]
          },
          "metadata": {},
          "execution_count": 40
        }
      ]
    },
    {
      "cell_type": "code",
      "source": [
        "# with open('/content/drive/MyDrive/Colab Notebooks/Working/en/test-sentences-2017.txt') as f:\n",
        "#   lines = [line.rstrip('\\n') for line in f]"
      ],
      "metadata": {
        "id": "3KxAbNgun0iE"
      },
      "execution_count": 49,
      "outputs": []
    },
    {
      "cell_type": "code",
      "source": [
        "# for i in range(250):\n",
        "#   a = test_data[2][i]\n",
        "#   b= np.round(prediction[i],1)\n",
        "#   if abs(a - b) < 0.5:\n",
        "#     print(lines[i],a,b) "
      ],
      "metadata": {
        "id": "5_-BmeK7m4wc"
      },
      "execution_count": null,
      "outputs": []
    },
    {
      "cell_type": "code",
      "source": [],
      "metadata": {
        "id": "T1w0w_HYpDZm"
      },
      "execution_count": null,
      "outputs": []
    }
  ]
}